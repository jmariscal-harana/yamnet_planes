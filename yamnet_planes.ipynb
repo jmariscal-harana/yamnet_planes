{
 "cells": [
  {
   "cell_type": "markdown",
   "metadata": {},
   "source": [
    "# \"Fine tuning\" google's yamnet network to detect train sounds \n",
    "\n",
    "Accompanies the blog post here: \n",
    "\n",
    "This was a weekend project to track / quantify the train in my neighborhood that honks a lot. \n",
    "I eventually plan to correlate with my sleep patterns, but that's another day. \n",
    "\n",
    "As this was a short weekend project, no care has been take around clean code / bugs / proper validation dataset, etc.\n",
    "\n",
    "### Some background\n",
    "Google released yamnet: see https://github.com/tensorflow/models/tree/master/research/audioset/yamnet \n",
    "\"YAMNet is a pretrained deep net that predicts 521 audio event classes based on the AudioSet-YouTube corpus, and employing the Mobilenet_v1 depthwise-separable convolution architecture.\"\n",
    "\n",
    "The yamnet model does contain a 'train' and 'train horn' class, but found it was not accurate enough on my data. If your data is one of the 521 classes, you might be able to directly use the yamnet output and not train anything. \n",
    "\n",
    "\n",
    "This notebook takes the output feature vectors from yamnet as 1024 length vectors per patch of audio. We then feed those vectors into a small network that has been trained on the data I care about ( \"train horn\" vs \"not train horn\" ) \n",
    "\n",
    "I created a very small dataset of about 10 wavs per class -- where the \"not train horn\" class is just background noise, or noises that might be confused with a train horn ( dog bark, etc ) Each training sound is augmented a few times to create more data. \n",
    "\n",
    "Note: I did remove a few files from the data included here for file size reasons, but only 1-2 wav files. The accuracy here will be slightly lower than what I got. You can experiment with how much data is required for your task. \n"
   ]
  },
  {
   "cell_type": "code",
   "execution_count": 1,
   "metadata": {},
   "outputs": [
    {
     "name": "stdout",
     "output_type": "stream",
     "text": [
      "Populating the interactive namespace from numpy and matplotlib\n"
     ]
    }
   ],
   "source": [
    "%pylab inline"
   ]
  },
  {
   "cell_type": "code",
   "execution_count": 2,
   "metadata": {},
   "outputs": [],
   "source": [
    "import sys\n",
    "import os \n",
    "import random\n",
    "import matplotlib.pyplot as plt\n",
    "import glob\n",
    "from tqdm import tqdm"
   ]
  },
  {
   "cell_type": "code",
   "execution_count": 3,
   "metadata": {},
   "outputs": [],
   "source": [
    "# sound libs, you don't really need all of them \n",
    "# librosa should suffice \n",
    "import soundfile as sf\n",
    "import librosa\n",
    "import resampy"
   ]
  },
  {
   "cell_type": "markdown",
   "metadata": {},
   "source": [
    "## Clone the tf models repo \n",
    "\n",
    " * NOTE: Large ~1GB download "
   ]
  },
  {
   "cell_type": "code",
   "execution_count": 5,
   "metadata": {},
   "outputs": [
    {
     "name": "stdout",
     "output_type": "stream",
     "text": [
      "fatal: destination path 'models' already exists and is not an empty directory.\r\n"
     ]
    }
   ],
   "source": [
    "!git clone https://github.com/tensorflow/models.git"
   ]
  },
  {
   "cell_type": "markdown",
   "metadata": {},
   "source": [
    "### Download the pre-trained weights for yamnet model"
   ]
  },
  {
   "cell_type": "code",
   "execution_count": 6,
   "metadata": {},
   "outputs": [
    {
     "name": "stdout",
     "output_type": "stream",
     "text": [
      "--2020-03-09 16:50:46--  https://storage.googleapis.com/audioset/yamnet.h5\n",
      "Resolving storage.googleapis.com (storage.googleapis.com)... 172.217.18.208, 2a00:1450:4007:805::2010\n",
      "Connecting to storage.googleapis.com (storage.googleapis.com)|172.217.18.208|:443... connected.\n",
      "HTTP request sent, awaiting response... 200 OK\n",
      "Length: 15296092 (15M) [application/octet-stream]\n",
      "Saving to: ‘yamnet.h5.1’\n",
      "\n",
      "yamnet.h5.1         100%[===================>]  14,59M  9,31MB/s    in 1,6s    \n",
      "\n",
      "2020-03-09 16:50:49 (9,31 MB/s) - ‘yamnet.h5.1’ saved [15296092/15296092]\n",
      "\n"
     ]
    }
   ],
   "source": [
    "!wget https://storage.googleapis.com/audioset/yamnet.h5"
   ]
  },
  {
   "cell_type": "code",
   "execution_count": 4,
   "metadata": {},
   "outputs": [],
   "source": []
  },
  {
   "cell_type": "code",
   "execution_count": 5,
   "metadata": {},
   "outputs": [],
   "source": [
    "## Yamnet imports \n",
    "import params\n",
    "import yamnet as yamnet_tf\n",
    "import modified_yamnet as yamnet\n",
    "\n",
    "\n",
    "import features as features_lib"
   ]
  },
  {
   "cell_type": "code",
   "execution_count": 6,
   "metadata": {},
   "outputs": [],
   "source": [
    "from tensorflow.keras import Model, layers\n",
    "from tensorflow.keras.optimizers import SGD, Adam\n",
    "from tensorflow.keras.callbacks import EarlyStopping\n",
    "\n",
    "import tensorflow as tf\n",
    "tf.compat.v1.logging.set_verbosity(tf.compat.v1.logging.ERROR)"
   ]
  },
  {
   "cell_type": "code",
   "execution_count": 11,
   "metadata": {},
   "outputs": [
    {
     "name": "stdout",
     "output_type": "stream",
     "text": [
      "tf version:  2.0.0\n",
      "tf.keras version:  2.2.4-tf\n"
     ]
    }
   ],
   "source": [
    "print(\"tf version: \", tf.__version__)\n",
    "print(\"tf.keras version: \", tf.keras.__version__)"
   ]
  },
  {
   "cell_type": "code",
   "execution_count": 7,
   "metadata": {},
   "outputs": [],
   "source": [
    "# OPTION 1\n",
    "# gpus = tf.config.experimental.list_physical_devices('GPU')\n",
    "# if gpus:\n",
    "#   try:\n",
    "#     # Currently, memory growth needs to be the same across GPUs\n",
    "#     for gpu in gpus:\n",
    "#       tf.config.experimental.set_memory_growth(gpu, True)\n",
    "#     logical_gpus = tf.config.experimental.list_logical_devices('GPU')\n",
    "#     print(len(gpus), \"Physical GPUs,\", len(logical_gpus), \"Logical GPUs\")\n",
    "#   except RuntimeError as e:\n",
    "#     # Memory growth must be set before GPUs have been initialized\n",
    "#     print(e)\n",
    "\n",
    "# OPTION 2\n",
    "physical_devices = tf.config.experimental.list_physical_devices('GPU')\n",
    "tf.config.experimental.set_memory_growth(physical_devices[0], True)"
   ]
  },
  {
   "cell_type": "code",
   "execution_count": 8,
   "metadata": {},
   "outputs": [],
   "source": [
    "DESIRED_SR = 16000\n",
    "NUM_CLASSES = 2 # (plane, no plane)\n",
    "\n",
    "# Set up the YAMNet model.\n",
    "params.PATCH_HOP_SECONDS = 0.1  # 10 Hz scores frame rate.\n",
    "\n",
    "yamnet_model, dense_net = yamnet.yamnet_frames_model(params)\n",
    "\n",
    "yamnet_model.load_weights('yamnet.h5')\n",
    "\n",
    "class_names = yamnet_tf.class_names(os.path.join(yamnet_base, 'yamnet_class_map.csv'))"
   ]
  },
  {
   "cell_type": "markdown",
   "metadata": {},
   "source": [
    "## Some helper functions for later"
   ]
  },
  {
   "cell_type": "code",
   "execution_count": 9,
   "metadata": {},
   "outputs": [],
   "source": [
    "def read_wav(fname, output_sr, use_rosa=True):\n",
    "    # small wrapper - i was seeing some slightly different \n",
    "    # results when loading with different libraries \n",
    "    if use_rosa:\n",
    "        waveform, sr = librosa.load(fname, sr=output_sr)\n",
    "    else:\n",
    "        wav_data, sr = sf.read(fname, dtype=np.int16)\n",
    "        \n",
    "        if wav_data.ndim > 1: \n",
    "            # (ns, 2)\n",
    "            wav_data = wav_data.mean(1)\n",
    "        if sr != output_sr:\n",
    "            wav_data = resampy.resample(wav_data, sr, output_sr)\n",
    "        waveform = wav_data / 32768.0\n",
    "    \n",
    "    return waveform.astype(np.float64)\n"
   ]
  },
  {
   "cell_type": "code",
   "execution_count": 10,
   "metadata": {},
   "outputs": [],
   "source": [
    "def remove_silence(waveform, top_db=15, min_chunk_size=2000, merge_chunks=True):\n",
    "    # Loads sample into chunks of non-silence \n",
    "    \n",
    "    splits = librosa.effects.split(waveform, top_db=top_db)\n",
    "    \n",
    "    waves = []\n",
    "    for start, end in splits:\n",
    "        if (end-start) < min_chunk_size:\n",
    "            continue\n",
    "        waves.append(waveform[start:end])\n",
    "    \n",
    "    if merge_chunks:\n",
    "        out = None\n",
    "        for c in waves:\n",
    "            if out is None:\n",
    "                out = c.copy()\n",
    "            else:\n",
    "                out = np.concatenate((out, c))\n",
    "        waves = out\n",
    "    \n",
    "    return waves\n"
   ]
  },
  {
   "cell_type": "code",
   "execution_count": 11,
   "metadata": {},
   "outputs": [],
   "source": [
    "def get_top_dirs(p):\n",
    "    dirs = list(filter(lambda x : os.path.isdir( os.path.join(p, x) ), os.listdir(p)))\n",
    "    return list(map(lambda x : os.path.join(p, x), dirs))"
   ]
  },
  {
   "cell_type": "code",
   "execution_count": 12,
   "metadata": {},
   "outputs": [],
   "source": [
    "def random_augment_wav(wav_data):\n",
    "    # apply some random augmentations to the sound\n",
    "    # - time stretch, resample, volume change, minor noise \n",
    "    # - this has not been evaluated to measure contributions\n",
    "    # - TODO: probably a lot more augmentations you could use \n",
    "    \n",
    "    wav_data = wav_data.copy() \n",
    "    \n",
    "    # random re-sample \n",
    "    if np.random.uniform() > 0.8:\n",
    "        stretch = np.random.uniform(0.75, 1.5)\n",
    "        wav_data = librosa.effects.time_stretch(wav_data, stretch)\n",
    "    elif np.random.uniform() > 0.2:\n",
    "        new_sr = int(DESIRED_SR * np.random.uniform(0.9, 1.1))\n",
    "        wav_data = resampy.resample(wav_data, DESIRED_SR, new_sr)\n",
    "    \n",
    "    #librosa.effects.pitch_shift()\n",
    "    \n",
    "    # random volume\n",
    "    volume = np.random.uniform(0.65, 1.2)\n",
    "    wav_data = wav_data * volume\n",
    "    \n",
    "    # Random noise\n",
    "    if np.random.uniform() > 0.5:\n",
    "        NR = 0.001 # 0.1\n",
    "        wav_data += np.random.uniform(-NR, NR, size=wav_data.shape)\n",
    "    \n",
    "    return wav_data\n",
    "    \n",
    "    "
   ]
  },
  {
   "cell_type": "code",
   "execution_count": 13,
   "metadata": {},
   "outputs": [],
   "source": [
    "def load_data(base_path, \n",
    "              audio_model, \n",
    "              num_augmentations=5,\n",
    "              max_sample_seconds=5.0,\n",
    "              use_rosa=True):\n",
    "    \"\"\"\n",
    "    Loads data from .wav files contained in subfolders where \n",
    "    folder name is label, then runs them \n",
    "    through the audio_model to get feature vectors \n",
    "    and returns:\n",
    "    \n",
    "    X : [ np.array(1024) , ... ]\n",
    "    Y : [ category_idx , ...]\n",
    "    \n",
    "    \"\"\"\n",
    "    \n",
    "    label_dirs = get_top_dirs(base_path)\n",
    "    \n",
    "    _samples = []\n",
    "    _labels = []\n",
    "    \n",
    "    merge_chunks = True\n",
    "    MIN_WAV_SIZE = 5000 # TODO: seems to need to be pretty long for NN to work?\n",
    "    max_wav_size = int(DESIRED_SR * max_sample_seconds)\n",
    "    \n",
    "    for label_idx, label_dir in enumerate(label_dirs):\n",
    "        \n",
    "        label_name = os.path.basename(label_dir)\n",
    "        wavs = glob.glob(os.path.join(label_dir, \"*.wav\"))\n",
    "        print(\" Loading {:<5} '{:<40}'\".format(label_idx, label_name))\n",
    "        \n",
    "        for wav_file in tqdm(wavs):\n",
    "            \n",
    "            # rosa seems very different?\n",
    "            #for use_rosa in range(2):\n",
    "            if True:\n",
    "                #use_rosa = 1\n",
    "                #use_rosa = np.random.uniform() > 0.5\n",
    "                waveform = read_wav(wav_file, DESIRED_SR, use_rosa=use_rosa)\n",
    "\n",
    "                if label_name == 'train':\n",
    "                    waveform = remove_silence(waveform)\n",
    "\n",
    "                if len(waveform) < MIN_WAV_SIZE:\n",
    "                    continue \n",
    "\n",
    "                if len(waveform) > max_wav_size:\n",
    "                    waveform = waveform[:max_wav_size]\n",
    "                    print(\"\\nIgnoring audio data after {} seconds\".format(max_sample_seconds))\n",
    "\n",
    "                for aug_idx in range(1 + num_augmentations):\n",
    "                    \n",
    "                    aug_wav = waveform.copy()\n",
    "                    \n",
    "                    if aug_idx > 0:\n",
    "                        aug_wav = random_augment_wav(aug_wav)\n",
    "\n",
    "                    _, _, dense_out, _ = audio_model.predict(np.reshape(aug_wav, [1, -1]), steps=1)\n",
    "                    \n",
    "                    for patch in dense_out:\n",
    "                        _samples.append(patch)\n",
    "                        _labels.append(label_idx)\n",
    "                \n",
    "    return _samples, _labels\n",
    "    "
   ]
  },
  {
   "cell_type": "code",
   "execution_count": 14,
   "metadata": {},
   "outputs": [
    {
     "data": {
      "text/plain": [
       "dtype('float16')"
      ]
     },
     "execution_count": 14,
     "metadata": {},
     "output_type": "execute_result"
    },
    {
     "data": {
      "image/png": "[encoded data removed]",
      "text/plain": [
       "<Figure size 792x792 with 1 Axes>"
      ]
     },
     "metadata": {
      "needs_background": "light"
     },
     "output_type": "display_data"
    }
   ],
   "source": [
    "## Plot a wave file \n",
    "\n",
    "fname = \"training_data_planes/plane/track_04_0000_norm.wav\"\n",
    "\n",
    "waveform = read_wav(fname, DESIRED_SR, use_rosa=1)\n",
    "\n",
    "figure(figsize=(11,11))\n",
    "\n",
    "plot(waveform)\n",
    "title(\"Sample Airplane Sound\")\n",
    "\n",
    "waveform = waveform.astype(np.float16)\n",
    "waveform.dtype"
   ]
  },
  {
   "cell_type": "markdown",
   "metadata": {},
   "source": [
    "### Plot Yamnet predictions on our data"
   ]
  },
  {
   "cell_type": "code",
   "execution_count": 15,
   "metadata": {},
   "outputs": [],
   "source": [
    "# Run the model.\n",
    "scores, spectrogram, dense_out, patches = yamnet_model.predict(np.reshape(waveform, [1, -1]), steps=1)"
   ]
  },
  {
   "cell_type": "code",
   "execution_count": 20,
   "metadata": {},
   "outputs": [
    {
     "data": {
      "image/png": "[encoded data removed]",
      "text/plain": [
       "<Figure size 720x576 with 3 Axes>"
      ]
     },
     "metadata": {
      "needs_background": "light"
     },
     "output_type": "display_data"
    }
   ],
   "source": [
    "# Visualize the results.\n",
    "plt.figure(figsize=(10, 8))\n",
    "\n",
    "# Plot the waveform.\n",
    "plt.subplot(3, 1, 1)\n",
    "plt.plot(waveform)\n",
    "plt.xlim([0, len(waveform)])\n",
    "# Plot the log-mel spectrogram (returned by the model).\n",
    "plt.subplot(3, 1, 2)\n",
    "plt.imshow(spectrogram.T, aspect='auto', interpolation='nearest', origin='bottom')\n",
    "\n",
    "# Plot and label the model output scores for the top-scoring classes.\n",
    "mean_scores = np.mean(scores, axis=0)\n",
    "top_N = 10\n",
    "top_class_indices = np.argsort(mean_scores)[::-1][:top_N]\n",
    "plt.subplot(3, 1, 3)\n",
    "plt.imshow(scores[:, top_class_indices].T, aspect='auto', interpolation='nearest', cmap='gray_r')\n",
    "# Compensate for the PATCH_WINDOW_SECONDS (0.96 s) context window to align with spectrogram.\n",
    "patch_padding = (params.PATCH_WINDOW_SECONDS / 2) / params.PATCH_HOP_SECONDS\n",
    "plt.xlim([-patch_padding, scores.shape[0] + patch_padding])\n",
    "# Label the top_N classes.\n",
    "yticks = range(0, top_N, 1)\n",
    "plt.yticks(yticks, [class_names[top_class_indices[x]] for x in yticks])\n",
    "_ = plt.ylim(-0.5 + np.array([top_N, 0]))\n",
    "\n",
    "plt.show()"
   ]
  },
  {
   "cell_type": "code",
   "execution_count": null,
   "metadata": {},
   "outputs": [],
   "source": [
    "## Load our training data"
   ]
  },
  {
   "cell_type": "code",
   "execution_count": 18,
   "metadata": {},
   "outputs": [
    {
     "name": "stderr",
     "output_type": "stream",
     "text": [
      "\r",
      "  0%|          | 0/14 [00:00<?, ?it/s]"
     ]
    },
    {
     "name": "stdout",
     "output_type": "stream",
     "text": [
      " Loading 0     'plane                                   '\n"
     ]
    },
    {
     "name": "stderr",
     "output_type": "stream",
     "text": [
      "100%|██████████| 14/14 [03:47<00:00, 16.23s/it]\n",
      "  0%|          | 0/16 [00:00<?, ?it/s]"
     ]
    },
    {
     "name": "stdout",
     "output_type": "stream",
     "text": [
      " Loading 1     'not_plane                               '\n"
     ]
    },
    {
     "name": "stderr",
     "output_type": "stream",
     "text": [
      "100%|██████████| 16/16 [02:37<00:00,  9.81s/it]\n"
     ]
    }
   ],
   "source": [
    "samples, labels = load_data(\"training_data_planes\",\n",
    "                            yamnet_model,\n",
    "                            num_augmentations=8, \n",
    "                            max_sample_seconds=5.0)\n",
    "\n",
    "\n"
   ]
  },
  {
   "cell_type": "code",
   "execution_count": 21,
   "metadata": {},
   "outputs": [
    {
     "data": {
      "text/plain": [
       "7135"
      ]
     },
     "execution_count": 21,
     "metadata": {},
     "output_type": "execute_result"
    }
   ],
   "source": [
    "len(samples)"
   ]
  },
  {
   "cell_type": "code",
   "execution_count": 22,
   "metadata": {},
   "outputs": [
    {
     "name": "stdout",
     "output_type": "stream",
     "text": [
      " Loaded samples:  (7135, 1024) float32 (7135,)\n"
     ]
    }
   ],
   "source": [
    "idxs = list(range(len(labels)))\n",
    "random.shuffle(idxs)\n",
    "\n",
    "samples = [samples[i] for i in idxs]\n",
    "labels = [labels[i] for i in idxs]\n",
    "\n",
    "samples = np.array(samples)\n",
    "labels = np.array(labels)\n",
    "\n",
    "print(\" Loaded samples: \" , samples.shape, samples.dtype,  labels.shape)\n"
   ]
  },
  {
   "cell_type": "markdown",
   "metadata": {},
   "source": [
    "## Create our 'fine tuning' thin model that accepts yamnet feature vector outputs \n",
    "\n",
    "You can play with how many layers, or which activation functions to use, etc"
   ]
  },
  {
   "cell_type": "code",
   "execution_count": 15,
   "metadata": {},
   "outputs": [],
   "source": [
    "def get_top_model(num_classes=3, \n",
    "                  input_size=1024,\n",
    "                  num_hidden=1024):\n",
    "\n",
    "    input_layer = layers.Input(shape=(input_size,))\n",
    "    \n",
    "    output = layers.Dense(num_hidden, activation=None)(input_layer)\n",
    "    \n",
    "    output = layers.Dense(num_classes, activation='softmax')(output)\n",
    "    \n",
    "    model = Model(inputs=input_layer, outputs=output)\n",
    "    \n",
    "    return model\n"
   ]
  },
  {
   "cell_type": "code",
   "execution_count": 22,
   "metadata": {},
   "outputs": [],
   "source": [
    "es = EarlyStopping(monitor='val_loss', mode='min', verbose=1)\n"
   ]
  },
  {
   "cell_type": "code",
   "execution_count": 23,
   "metadata": {},
   "outputs": [],
   "source": [
    "num_hidden = 1024\n",
    "feature_len = 1024\n",
    "\n",
    "model = get_top_model(num_classes=NUM_CLASSES, \n",
    "                      input_size=feature_len, \n",
    "                      num_hidden=num_hidden)\n",
    "\n",
    "#opt = Adam(learning_rate=0.001)\n",
    "opt = SGD(lr=0.001, decay=1e-6, momentum=0.9, nesterov=True)\n",
    "\n",
    "model.compile(optimizer=opt, loss='sparse_categorical_crossentropy', metrics=['accuracy'])\n"
   ]
  },
  {
   "cell_type": "code",
   "execution_count": 26,
   "metadata": {},
   "outputs": [
    {
     "name": "stdout",
     "output_type": "stream",
     "text": [
      "Train on 6421 samples, validate on 714 samples\n",
      "Epoch 1/200\n",
      "6421/6421 [==============================] - 7s 1ms/sample - loss: 0.1163 - accuracy: 0.9785 - val_loss: 0.0395 - val_accuracy: 0.9972\n",
      "Epoch 2/200\n",
      "6421/6421 [==============================] - 3s 498us/sample - loss: 0.0304 - accuracy: 0.9963 - val_loss: 0.0249 - val_accuracy: 0.9986\n",
      "Epoch 3/200\n",
      "6421/6421 [==============================] - 3s 505us/sample - loss: 0.0206 - accuracy: 0.9972 - val_loss: 0.0184 - val_accuracy: 0.9986\n",
      "Epoch 4/200\n",
      "6421/6421 [==============================] - 3s 497us/sample - loss: 0.0160 - accuracy: 0.9978 - val_loss: 0.0147 - val_accuracy: 0.9986\n",
      "Epoch 5/200\n",
      "6421/6421 [==============================] - 3s 507us/sample - loss: 0.0133 - accuracy: 0.9980 - val_loss: 0.0127 - val_accuracy: 0.9986\n",
      "Epoch 6/200\n",
      "6421/6421 [==============================] - 3s 476us/sample - loss: 0.0115 - accuracy: 0.9981 - val_loss: 0.0111 - val_accuracy: 0.9986\n",
      "Epoch 7/200\n",
      "6421/6421 [==============================] - 3s 498us/sample - loss: 0.0102 - accuracy: 0.9981 - val_loss: 0.0098 - val_accuracy: 0.9986\n",
      "Epoch 8/200\n",
      "6421/6421 [==============================] - 3s 474us/sample - loss: 0.0092 - accuracy: 0.9983 - val_loss: 0.0089 - val_accuracy: 0.9986\n",
      "Epoch 9/200\n",
      "6421/6421 [==============================] - 3s 498us/sample - loss: 0.0084 - accuracy: 0.9986 - val_loss: 0.0081 - val_accuracy: 0.9986\n",
      "Epoch 10/200\n",
      "6421/6421 [==============================] - 3s 470us/sample - loss: 0.0077 - accuracy: 0.9986 - val_loss: 0.0075 - val_accuracy: 1.0000\n",
      "Epoch 11/200\n",
      "6421/6421 [==============================] - 3s 460us/sample - loss: 0.0071 - accuracy: 0.9988 - val_loss: 0.0069 - val_accuracy: 1.0000\n",
      "Epoch 12/200\n",
      "6421/6421 [==============================] - 3s 468us/sample - loss: 0.0067 - accuracy: 0.9986 - val_loss: 0.0064 - val_accuracy: 1.0000\n",
      "Epoch 13/200\n",
      "6421/6421 [==============================] - 3s 473us/sample - loss: 0.0063 - accuracy: 0.9989 - val_loss: 0.0060 - val_accuracy: 1.0000\n",
      "Epoch 14/200\n",
      "6421/6421 [==============================] - 3s 459us/sample - loss: 0.0059 - accuracy: 0.9989 - val_loss: 0.0057 - val_accuracy: 1.0000\n",
      "Epoch 15/200\n",
      "6421/6421 [==============================] - 3s 464us/sample - loss: 0.0056 - accuracy: 0.9989 - val_loss: 0.0054 - val_accuracy: 1.0000\n",
      "Epoch 16/200\n",
      "6421/6421 [==============================] - 3s 467us/sample - loss: 0.0053 - accuracy: 0.9991 - val_loss: 0.0051 - val_accuracy: 1.0000\n",
      "Epoch 17/200\n",
      "6421/6421 [==============================] - 3s 464us/sample - loss: 0.0051 - accuracy: 0.9991 - val_loss: 0.0048 - val_accuracy: 1.0000\n",
      "Epoch 18/200\n",
      "6421/6421 [==============================] - 3s 469us/sample - loss: 0.0048 - accuracy: 0.9992 - val_loss: 0.0047 - val_accuracy: 1.0000\n",
      "Epoch 19/200\n",
      "6421/6421 [==============================] - 3s 471us/sample - loss: 0.0046 - accuracy: 0.9992 - val_loss: 0.0045 - val_accuracy: 1.0000\n",
      "Epoch 20/200\n",
      "6421/6421 [==============================] - 3s 467us/sample - loss: 0.0044 - accuracy: 0.9992 - val_loss: 0.0042 - val_accuracy: 1.0000\n",
      "Epoch 21/200\n",
      "6421/6421 [==============================] - 3s 459us/sample - loss: 0.0043 - accuracy: 0.9994 - val_loss: 0.0041 - val_accuracy: 1.0000\n",
      "Epoch 22/200\n",
      "6421/6421 [==============================] - 3s 474us/sample - loss: 0.0041 - accuracy: 0.9994 - val_loss: 0.0039 - val_accuracy: 1.0000\n",
      "Epoch 23/200\n",
      "6421/6421 [==============================] - 3s 469us/sample - loss: 0.0040 - accuracy: 0.9994 - val_loss: 0.0038 - val_accuracy: 1.0000\n",
      "Epoch 24/200\n",
      "6421/6421 [==============================] - 3s 464us/sample - loss: 0.0038 - accuracy: 0.9994 - val_loss: 0.0037 - val_accuracy: 1.0000\n",
      "Epoch 25/200\n",
      "6421/6421 [==============================] - 3s 467us/sample - loss: 0.0037 - accuracy: 0.9994 - val_loss: 0.0036 - val_accuracy: 1.0000\n",
      "Epoch 26/200\n",
      "6421/6421 [==============================] - 3s 471us/sample - loss: 0.0036 - accuracy: 0.9994 - val_loss: 0.0034 - val_accuracy: 1.0000\n",
      "Epoch 27/200\n",
      "6421/6421 [==============================] - 3s 468us/sample - loss: 0.0035 - accuracy: 0.9995 - val_loss: 0.0033 - val_accuracy: 1.0000\n",
      "Epoch 28/200\n",
      "6421/6421 [==============================] - 3s 471us/sample - loss: 0.0034 - accuracy: 0.9995 - val_loss: 0.0032 - val_accuracy: 1.0000\n",
      "Epoch 29/200\n",
      "6421/6421 [==============================] - 3s 472us/sample - loss: 0.0033 - accuracy: 0.9995 - val_loss: 0.0031 - val_accuracy: 1.0000\n",
      "Epoch 30/200\n",
      "6421/6421 [==============================] - 3s 480us/sample - loss: 0.0032 - accuracy: 0.9995 - val_loss: 0.0031 - val_accuracy: 1.0000\n",
      "Epoch 31/200\n",
      "6421/6421 [==============================] - 3s 478us/sample - loss: 0.0031 - accuracy: 0.9995 - val_loss: 0.0030 - val_accuracy: 1.0000\n",
      "Epoch 32/200\n",
      "6421/6421 [==============================] - 3s 482us/sample - loss: 0.0030 - accuracy: 0.9995 - val_loss: 0.0029 - val_accuracy: 1.0000\n",
      "Epoch 33/200\n",
      "6421/6421 [==============================] - 3s 476us/sample - loss: 0.0029 - accuracy: 0.9995 - val_loss: 0.0028 - val_accuracy: 1.0000\n",
      "Epoch 34/200\n",
      "6421/6421 [==============================] - 3s 479us/sample - loss: 0.0029 - accuracy: 0.9995 - val_loss: 0.0027 - val_accuracy: 1.0000\n",
      "Epoch 35/200\n",
      "6421/6421 [==============================] - 3s 474us/sample - loss: 0.0028 - accuracy: 0.9995 - val_loss: 0.0027 - val_accuracy: 1.0000\n",
      "Epoch 36/200\n",
      "6421/6421 [==============================] - 3s 480us/sample - loss: 0.0027 - accuracy: 0.9995 - val_loss: 0.0026 - val_accuracy: 1.0000\n",
      "Epoch 37/200\n",
      "6421/6421 [==============================] - 3s 462us/sample - loss: 0.0027 - accuracy: 0.9995 - val_loss: 0.0026 - val_accuracy: 1.0000\n",
      "Epoch 38/200\n",
      "6421/6421 [==============================] - 3s 471us/sample - loss: 0.0026 - accuracy: 0.9995 - val_loss: 0.0025 - val_accuracy: 1.0000\n",
      "Epoch 39/200\n",
      "6421/6421 [==============================] - 3s 464us/sample - loss: 0.0025 - accuracy: 0.9995 - val_loss: 0.0024 - val_accuracy: 1.0000\n",
      "Epoch 40/200\n",
      "6421/6421 [==============================] - 3s 478us/sample - loss: 0.0025 - accuracy: 0.9995 - val_loss: 0.0024 - val_accuracy: 1.0000\n",
      "Epoch 41/200\n",
      "6421/6421 [==============================] - 3s 487us/sample - loss: 0.0024 - accuracy: 0.9997 - val_loss: 0.0023 - val_accuracy: 1.0000\n",
      "Epoch 42/200\n",
      "6421/6421 [==============================] - 3s 444us/sample - loss: 0.0024 - accuracy: 0.9995 - val_loss: 0.0023 - val_accuracy: 1.0000\n",
      "Epoch 43/200\n",
      "6421/6421 [==============================] - 3s 416us/sample - loss: 0.0023 - accuracy: 0.9995 - val_loss: 0.0023 - val_accuracy: 1.0000\n",
      "Epoch 44/200\n",
      "6421/6421 [==============================] - 3s 450us/sample - loss: 0.0023 - accuracy: 0.9997 - val_loss: 0.0022 - val_accuracy: 1.0000\n",
      "Epoch 45/200\n",
      "6421/6421 [==============================] - 3s 460us/sample - loss: 0.0022 - accuracy: 0.9997 - val_loss: 0.0022 - val_accuracy: 1.0000\n",
      "Epoch 46/200\n",
      "6421/6421 [==============================] - 3s 462us/sample - loss: 0.0022 - accuracy: 0.9998 - val_loss: 0.0021 - val_accuracy: 1.0000\n",
      "Epoch 47/200\n",
      "6421/6421 [==============================] - 3s 462us/sample - loss: 0.0022 - accuracy: 0.9997 - val_loss: 0.0021 - val_accuracy: 1.0000\n",
      "Epoch 48/200\n",
      "6421/6421 [==============================] - 3s 451us/sample - loss: 0.0021 - accuracy: 0.9997 - val_loss: 0.0021 - val_accuracy: 1.0000\n",
      "Epoch 49/200\n",
      "6421/6421 [==============================] - 3s 467us/sample - loss: 0.0021 - accuracy: 0.9998 - val_loss: 0.0020 - val_accuracy: 1.0000\n",
      "Epoch 50/200\n",
      "6421/6421 [==============================] - 3s 463us/sample - loss: 0.0020 - accuracy: 0.9997 - val_loss: 0.0020 - val_accuracy: 1.0000\n",
      "Epoch 51/200\n",
      "6421/6421 [==============================] - 3s 463us/sample - loss: 0.0020 - accuracy: 1.0000 - val_loss: 0.0020 - val_accuracy: 1.0000\n",
      "Epoch 52/200\n",
      "6421/6421 [==============================] - 3s 464us/sample - loss: 0.0020 - accuracy: 1.0000 - val_loss: 0.0019 - val_accuracy: 1.0000\n",
      "Epoch 53/200\n",
      "6421/6421 [==============================] - 3s 449us/sample - loss: 0.0019 - accuracy: 0.9998 - val_loss: 0.0019 - val_accuracy: 1.0000\n",
      "Epoch 54/200\n",
      "6421/6421 [==============================] - 3s 467us/sample - loss: 0.0019 - accuracy: 0.9998 - val_loss: 0.0019 - val_accuracy: 1.0000\n",
      "Epoch 55/200\n",
      "6421/6421 [==============================] - 3s 467us/sample - loss: 0.0019 - accuracy: 1.0000 - val_loss: 0.0018 - val_accuracy: 1.0000\n",
      "Epoch 56/200\n",
      "6421/6421 [==============================] - 3s 481us/sample - loss: 0.0018 - accuracy: 1.0000 - val_loss: 0.0018 - val_accuracy: 1.0000\n",
      "Epoch 57/200\n",
      "6421/6421 [==============================] - 3s 456us/sample - loss: 0.0018 - accuracy: 1.0000 - val_loss: 0.0018 - val_accuracy: 1.0000\n",
      "Epoch 58/200\n",
      "6421/6421 [==============================] - 3s 458us/sample - loss: 0.0018 - accuracy: 1.0000 - val_loss: 0.0018 - val_accuracy: 1.0000\n",
      "Epoch 59/200\n",
      "6421/6421 [==============================] - 3s 475us/sample - loss: 0.0018 - accuracy: 1.0000 - val_loss: 0.0017 - val_accuracy: 1.0000\n",
      "Epoch 60/200\n",
      "6421/6421 [==============================] - 3s 471us/sample - loss: 0.0017 - accuracy: 1.0000 - val_loss: 0.0017 - val_accuracy: 1.0000\n",
      "Epoch 61/200\n",
      "6421/6421 [==============================] - 3s 480us/sample - loss: 0.0017 - accuracy: 1.0000 - val_loss: 0.0017 - val_accuracy: 1.0000\n",
      "Epoch 62/200\n",
      "6421/6421 [==============================] - 3s 492us/sample - loss: 0.0017 - accuracy: 1.0000 - val_loss: 0.0017 - val_accuracy: 1.0000\n",
      "Epoch 63/200\n",
      "6421/6421 [==============================] - 3s 486us/sample - loss: 0.0016 - accuracy: 1.0000 - val_loss: 0.0016 - val_accuracy: 1.0000\n",
      "Epoch 64/200\n",
      "6421/6421 [==============================] - 3s 478us/sample - loss: 0.0016 - accuracy: 1.0000 - val_loss: 0.0016 - val_accuracy: 1.0000\n",
      "Epoch 65/200\n",
      "6421/6421 [==============================] - 3s 485us/sample - loss: 0.0016 - accuracy: 1.0000 - val_loss: 0.0016 - val_accuracy: 1.0000\n",
      "Epoch 66/200\n",
      "6421/6421 [==============================] - 3s 469us/sample - loss: 0.0016 - accuracy: 1.0000 - val_loss: 0.0016 - val_accuracy: 1.0000\n",
      "Epoch 67/200\n",
      "6421/6421 [==============================] - 3s 466us/sample - loss: 0.0015 - accuracy: 1.0000 - val_loss: 0.0016 - val_accuracy: 1.0000\n",
      "Epoch 68/200\n",
      "6421/6421 [==============================] - 3s 448us/sample - loss: 0.0015 - accuracy: 1.0000 - val_loss: 0.0015 - val_accuracy: 1.0000\n",
      "Epoch 69/200\n",
      "6421/6421 [==============================] - 3s 434us/sample - loss: 0.0015 - accuracy: 1.0000 - val_loss: 0.0015 - val_accuracy: 1.0000\n",
      "Epoch 70/200\n",
      "6421/6421 [==============================] - 3s 440us/sample - loss: 0.0015 - accuracy: 1.0000 - val_loss: 0.0015 - val_accuracy: 1.0000\n",
      "Epoch 71/200\n",
      "6421/6421 [==============================] - 3s 453us/sample - loss: 0.0015 - accuracy: 1.0000 - val_loss: 0.0015 - val_accuracy: 1.0000\n",
      "Epoch 72/200\n",
      "6421/6421 [==============================] - 3s 464us/sample - loss: 0.0014 - accuracy: 1.0000 - val_loss: 0.0015 - val_accuracy: 1.0000\n",
      "Epoch 73/200\n",
      "6421/6421 [==============================] - 3s 454us/sample - loss: 0.0014 - accuracy: 1.0000 - val_loss: 0.0014 - val_accuracy: 1.0000\n",
      "Epoch 74/200\n",
      "6421/6421 [==============================] - 3s 460us/sample - loss: 0.0014 - accuracy: 1.0000 - val_loss: 0.0014 - val_accuracy: 1.0000\n",
      "Epoch 75/200\n",
      "6421/6421 [==============================] - 3s 472us/sample - loss: 0.0014 - accuracy: 1.0000 - val_loss: 0.0014 - val_accuracy: 1.0000\n",
      "Epoch 76/200\n",
      "6421/6421 [==============================] - 3s 465us/sample - loss: 0.0014 - accuracy: 1.0000 - val_loss: 0.0014 - val_accuracy: 1.0000\n",
      "Epoch 77/200\n",
      "6421/6421 [==============================] - 3s 477us/sample - loss: 0.0014 - accuracy: 1.0000 - val_loss: 0.0014 - val_accuracy: 1.0000\n",
      "Epoch 78/200\n",
      "6421/6421 [==============================] - 3s 451us/sample - loss: 0.0013 - accuracy: 1.0000 - val_loss: 0.0014 - val_accuracy: 1.0000\n",
      "Epoch 79/200\n",
      "6421/6421 [==============================] - 3s 440us/sample - loss: 0.0013 - accuracy: 1.0000 - val_loss: 0.0013 - val_accuracy: 1.0000\n",
      "Epoch 80/200\n",
      "6421/6421 [==============================] - 3s 436us/sample - loss: 0.0013 - accuracy: 1.0000 - val_loss: 0.0013 - val_accuracy: 1.0000\n",
      "Epoch 81/200\n",
      "6421/6421 [==============================] - 3s 450us/sample - loss: 0.0013 - accuracy: 1.0000 - val_loss: 0.0013 - val_accuracy: 1.0000\n",
      "Epoch 82/200\n",
      "6421/6421 [==============================] - 3s 448us/sample - loss: 0.0013 - accuracy: 1.0000 - val_loss: 0.0013 - val_accuracy: 1.0000\n",
      "Epoch 83/200\n",
      "6421/6421 [==============================] - 3s 464us/sample - loss: 0.0013 - accuracy: 1.0000 - val_loss: 0.0013 - val_accuracy: 1.0000\n",
      "Epoch 84/200\n",
      "6421/6421 [==============================] - 3s 478us/sample - loss: 0.0012 - accuracy: 1.0000 - val_loss: 0.0013 - val_accuracy: 1.0000\n",
      "Epoch 85/200\n",
      "6421/6421 [==============================] - 3s 493us/sample - loss: 0.0012 - accuracy: 1.0000 - val_loss: 0.0013 - val_accuracy: 1.0000\n",
      "Epoch 86/200\n",
      "6421/6421 [==============================] - 3s 483us/sample - loss: 0.0012 - accuracy: 1.0000 - val_loss: 0.0013 - val_accuracy: 1.0000\n",
      "Epoch 87/200\n",
      "6421/6421 [==============================] - 3s 484us/sample - loss: 0.0012 - accuracy: 1.0000 - val_loss: 0.0012 - val_accuracy: 1.0000\n",
      "Epoch 88/200\n",
      "6421/6421 [==============================] - 3s 473us/sample - loss: 0.0012 - accuracy: 1.0000 - val_loss: 0.0012 - val_accuracy: 1.0000\n",
      "Epoch 89/200\n",
      "6421/6421 [==============================] - 3s 486us/sample - loss: 0.0012 - accuracy: 1.0000 - val_loss: 0.0012 - val_accuracy: 1.0000\n",
      "Epoch 90/200\n",
      "6421/6421 [==============================] - 3s 500us/sample - loss: 0.0012 - accuracy: 1.0000 - val_loss: 0.0012 - val_accuracy: 1.0000\n",
      "Epoch 91/200\n",
      "6421/6421 [==============================] - 3s 491us/sample - loss: 0.0012 - accuracy: 1.0000 - val_loss: 0.0012 - val_accuracy: 1.0000\n",
      "Epoch 92/200\n",
      "6421/6421 [==============================] - 3s 494us/sample - loss: 0.0011 - accuracy: 1.0000 - val_loss: 0.0012 - val_accuracy: 1.0000\n",
      "Epoch 93/200\n",
      "6421/6421 [==============================] - 3s 480us/sample - loss: 0.0011 - accuracy: 1.0000 - val_loss: 0.0012 - val_accuracy: 1.0000\n",
      "Epoch 94/200\n",
      "6421/6421 [==============================] - 3s 503us/sample - loss: 0.0011 - accuracy: 1.0000 - val_loss: 0.0012 - val_accuracy: 1.0000\n",
      "Epoch 95/200\n",
      "6421/6421 [==============================] - 3s 485us/sample - loss: 0.0011 - accuracy: 1.0000 - val_loss: 0.0012 - val_accuracy: 1.0000\n",
      "Epoch 96/200\n",
      "6421/6421 [==============================] - 3s 489us/sample - loss: 0.0011 - accuracy: 1.0000 - val_loss: 0.0011 - val_accuracy: 1.0000\n",
      "Epoch 97/200\n",
      "6421/6421 [==============================] - 3s 482us/sample - loss: 0.0011 - accuracy: 1.0000 - val_loss: 0.0011 - val_accuracy: 1.0000\n",
      "Epoch 98/200\n",
      "6421/6421 [==============================] - 3s 480us/sample - loss: 0.0011 - accuracy: 1.0000 - val_loss: 0.0011 - val_accuracy: 1.0000\n",
      "Epoch 99/200\n",
      "6421/6421 [==============================] - 3s 475us/sample - loss: 0.0011 - accuracy: 1.0000 - val_loss: 0.0011 - val_accuracy: 1.0000\n",
      "Epoch 100/200\n",
      "6421/6421 [==============================] - 3s 470us/sample - loss: 0.0011 - accuracy: 1.0000 - val_loss: 0.0011 - val_accuracy: 1.0000\n",
      "Epoch 101/200\n",
      "6421/6421 [==============================] - 3s 475us/sample - loss: 0.0010 - accuracy: 1.0000 - val_loss: 0.0011 - val_accuracy: 1.0000\n",
      "Epoch 102/200\n",
      "6421/6421 [==============================] - 3s 469us/sample - loss: 0.0010 - accuracy: 1.0000 - val_loss: 0.0011 - val_accuracy: 1.0000\n",
      "Epoch 103/200\n",
      "6421/6421 [==============================] - 3s 400us/sample - loss: 0.0010 - accuracy: 1.0000 - val_loss: 0.0011 - val_accuracy: 1.0000\n",
      "Epoch 104/200\n",
      "6421/6421 [==============================] - 3s 477us/sample - loss: 0.0010 - accuracy: 1.0000 - val_loss: 0.0011 - val_accuracy: 1.0000\n",
      "Epoch 105/200\n",
      "6421/6421 [==============================] - 3s 463us/sample - loss: 9.9959e-04 - accuracy: 1.0000 - val_loss: 0.0011 - val_accuracy: 1.0000\n",
      "Epoch 106/200\n",
      "6421/6421 [==============================] - 3s 475us/sample - loss: 9.8935e-04 - accuracy: 1.0000 - val_loss: 0.0010 - val_accuracy: 1.0000\n",
      "Epoch 107/200\n",
      "6421/6421 [==============================] - 3s 462us/sample - loss: 9.7977e-04 - accuracy: 1.0000 - val_loss: 0.0010 - val_accuracy: 1.0000\n",
      "Epoch 108/200\n",
      "6421/6421 [==============================] - 3s 452us/sample - loss: 9.7108e-04 - accuracy: 1.0000 - val_loss: 0.0010 - val_accuracy: 1.0000\n",
      "Epoch 109/200\n"
     ]
    },
    {
     "name": "stdout",
     "output_type": "stream",
     "text": [
      "6421/6421 [==============================] - 3s 506us/sample - loss: 9.5979e-04 - accuracy: 1.0000 - val_loss: 0.0010 - val_accuracy: 1.0000\n",
      "Epoch 110/200\n",
      "6421/6421 [==============================] - 3s 479us/sample - loss: 9.5217e-04 - accuracy: 1.0000 - val_loss: 0.0010 - val_accuracy: 1.0000\n",
      "Epoch 111/200\n",
      "6421/6421 [==============================] - 3s 499us/sample - loss: 9.4375e-04 - accuracy: 1.0000 - val_loss: 0.0010 - val_accuracy: 1.0000\n",
      "Epoch 112/200\n",
      "6421/6421 [==============================] - 3s 485us/sample - loss: 9.3547e-04 - accuracy: 1.0000 - val_loss: 9.9630e-04 - val_accuracy: 1.0000\n",
      "Epoch 113/200\n",
      "6421/6421 [==============================] - 3s 484us/sample - loss: 9.2740e-04 - accuracy: 1.0000 - val_loss: 9.8877e-04 - val_accuracy: 1.0000\n",
      "Epoch 114/200\n",
      "6421/6421 [==============================] - 3s 481us/sample - loss: 9.1947e-04 - accuracy: 1.0000 - val_loss: 9.8049e-04 - val_accuracy: 1.0000\n",
      "Epoch 115/200\n",
      "6421/6421 [==============================] - 3s 481us/sample - loss: 9.0950e-04 - accuracy: 1.0000 - val_loss: 9.7333e-04 - val_accuracy: 1.0000\n",
      "Epoch 116/200\n",
      "6421/6421 [==============================] - 3s 484us/sample - loss: 9.0182e-04 - accuracy: 1.0000 - val_loss: 9.6576e-04 - val_accuracy: 1.0000\n",
      "Epoch 117/200\n",
      "6421/6421 [==============================] - 3s 491us/sample - loss: 8.9380e-04 - accuracy: 1.0000 - val_loss: 9.5788e-04 - val_accuracy: 1.0000\n",
      "Epoch 118/200\n",
      "6421/6421 [==============================] - 3s 497us/sample - loss: 8.8741e-04 - accuracy: 1.0000 - val_loss: 9.5138e-04 - val_accuracy: 1.0000\n",
      "Epoch 119/200\n",
      "6421/6421 [==============================] - 3s 491us/sample - loss: 8.8068e-04 - accuracy: 1.0000 - val_loss: 9.4392e-04 - val_accuracy: 1.0000\n",
      "Epoch 120/200\n",
      "6421/6421 [==============================] - 3s 494us/sample - loss: 8.7497e-04 - accuracy: 1.0000 - val_loss: 9.3770e-04 - val_accuracy: 1.0000\n",
      "Epoch 121/200\n",
      "6421/6421 [==============================] - 3s 491us/sample - loss: 8.6502e-04 - accuracy: 1.0000 - val_loss: 9.2931e-04 - val_accuracy: 1.0000\n",
      "Epoch 122/200\n",
      "6421/6421 [==============================] - 3s 497us/sample - loss: 8.5814e-04 - accuracy: 1.0000 - val_loss: 9.2348e-04 - val_accuracy: 1.0000\n",
      "Epoch 123/200\n",
      "6421/6421 [==============================] - 3s 489us/sample - loss: 8.4960e-04 - accuracy: 1.0000 - val_loss: 9.1662e-04 - val_accuracy: 1.0000\n",
      "Epoch 124/200\n",
      "6421/6421 [==============================] - 3s 491us/sample - loss: 8.4295e-04 - accuracy: 1.0000 - val_loss: 9.1113e-04 - val_accuracy: 1.0000\n",
      "Epoch 125/200\n",
      "6421/6421 [==============================] - 3s 500us/sample - loss: 8.3616e-04 - accuracy: 1.0000 - val_loss: 9.0483e-04 - val_accuracy: 1.0000\n",
      "Epoch 126/200\n",
      "6421/6421 [==============================] - 3s 484us/sample - loss: 8.2849e-04 - accuracy: 1.0000 - val_loss: 8.9790e-04 - val_accuracy: 1.0000\n",
      "Epoch 127/200\n",
      "6421/6421 [==============================] - 3s 486us/sample - loss: 8.2268e-04 - accuracy: 1.0000 - val_loss: 8.9173e-04 - val_accuracy: 1.0000\n",
      "Epoch 128/200\n",
      "6421/6421 [==============================] - 3s 487us/sample - loss: 8.1460e-04 - accuracy: 1.0000 - val_loss: 8.8571e-04 - val_accuracy: 1.0000\n",
      "Epoch 129/200\n",
      "6421/6421 [==============================] - 3s 493us/sample - loss: 8.0972e-04 - accuracy: 1.0000 - val_loss: 8.7899e-04 - val_accuracy: 1.0000\n",
      "Epoch 130/200\n",
      "6421/6421 [==============================] - 3s 485us/sample - loss: 8.0160e-04 - accuracy: 1.0000 - val_loss: 8.7312e-04 - val_accuracy: 1.0000\n",
      "Epoch 131/200\n",
      "6421/6421 [==============================] - 3s 475us/sample - loss: 7.9525e-04 - accuracy: 1.0000 - val_loss: 8.6737e-04 - val_accuracy: 1.0000\n",
      "Epoch 132/200\n",
      "6421/6421 [==============================] - 3s 480us/sample - loss: 7.8840e-04 - accuracy: 1.0000 - val_loss: 8.6088e-04 - val_accuracy: 1.0000\n",
      "Epoch 133/200\n",
      "6421/6421 [==============================] - 3s 485us/sample - loss: 7.8465e-04 - accuracy: 1.0000 - val_loss: 8.5539e-04 - val_accuracy: 1.0000\n",
      "Epoch 134/200\n",
      "6421/6421 [==============================] - 3s 487us/sample - loss: 7.7693e-04 - accuracy: 1.0000 - val_loss: 8.5065e-04 - val_accuracy: 1.0000\n",
      "Epoch 135/200\n",
      "6421/6421 [==============================] - 3s 488us/sample - loss: 7.7198e-04 - accuracy: 1.0000 - val_loss: 8.4414e-04 - val_accuracy: 1.0000\n",
      "Epoch 136/200\n",
      "6421/6421 [==============================] - 3s 484us/sample - loss: 7.6580e-04 - accuracy: 1.0000 - val_loss: 8.3751e-04 - val_accuracy: 1.0000\n",
      "Epoch 137/200\n",
      "6421/6421 [==============================] - 3s 467us/sample - loss: 7.5816e-04 - accuracy: 1.0000 - val_loss: 8.3347e-04 - val_accuracy: 1.0000\n",
      "Epoch 138/200\n",
      "6421/6421 [==============================] - 3s 484us/sample - loss: 7.5385e-04 - accuracy: 1.0000 - val_loss: 8.2713e-04 - val_accuracy: 1.0000\n",
      "Epoch 139/200\n",
      "6421/6421 [==============================] - 3s 462us/sample - loss: 7.4805e-04 - accuracy: 1.0000 - val_loss: 8.2228e-04 - val_accuracy: 1.0000\n",
      "Epoch 140/200\n",
      "6421/6421 [==============================] - 3s 492us/sample - loss: 7.4261e-04 - accuracy: 1.0000 - val_loss: 8.1655e-04 - val_accuracy: 1.0000\n",
      "Epoch 141/200\n",
      "6421/6421 [==============================] - 3s 462us/sample - loss: 7.3805e-04 - accuracy: 1.0000 - val_loss: 8.1166e-04 - val_accuracy: 1.0000\n",
      "Epoch 142/200\n",
      "6421/6421 [==============================] - 3s 467us/sample - loss: 7.3251e-04 - accuracy: 1.0000 - val_loss: 8.0637e-04 - val_accuracy: 1.0000\n",
      "Epoch 143/200\n",
      "6421/6421 [==============================] - 3s 462us/sample - loss: 7.2599e-04 - accuracy: 1.0000 - val_loss: 8.0141e-04 - val_accuracy: 1.0000\n",
      "Epoch 144/200\n",
      "6421/6421 [==============================] - 3s 481us/sample - loss: 7.2253e-04 - accuracy: 1.0000 - val_loss: 7.9652e-04 - val_accuracy: 1.0000\n",
      "Epoch 145/200\n",
      "6421/6421 [==============================] - 3s 463us/sample - loss: 7.1613e-04 - accuracy: 1.0000 - val_loss: 7.9186e-04 - val_accuracy: 1.0000\n",
      "Epoch 146/200\n",
      "6421/6421 [==============================] - 3s 462us/sample - loss: 7.0966e-04 - accuracy: 1.0000 - val_loss: 7.8726e-04 - val_accuracy: 1.0000\n",
      "Epoch 147/200\n",
      "6421/6421 [==============================] - 3s 478us/sample - loss: 7.0565e-04 - accuracy: 1.0000 - val_loss: 7.8279e-04 - val_accuracy: 1.0000\n",
      "Epoch 148/200\n",
      "6421/6421 [==============================] - 3s 467us/sample - loss: 7.0098e-04 - accuracy: 1.0000 - val_loss: 7.7780e-04 - val_accuracy: 1.0000\n",
      "Epoch 149/200\n",
      "6421/6421 [==============================] - 3s 459us/sample - loss: 6.9487e-04 - accuracy: 1.0000 - val_loss: 7.7311e-04 - val_accuracy: 1.0000\n",
      "Epoch 150/200\n",
      "6421/6421 [==============================] - 3s 484us/sample - loss: 6.8922e-04 - accuracy: 1.0000 - val_loss: 7.6849e-04 - val_accuracy: 1.0000\n",
      "Epoch 151/200\n",
      "6421/6421 [==============================] - 3s 492us/sample - loss: 6.8520e-04 - accuracy: 1.0000 - val_loss: 7.6388e-04 - val_accuracy: 1.0000\n",
      "Epoch 152/200\n",
      "6421/6421 [==============================] - 3s 490us/sample - loss: 6.8110e-04 - accuracy: 1.0000 - val_loss: 7.5968e-04 - val_accuracy: 1.0000\n",
      "Epoch 153/200\n",
      "6421/6421 [==============================] - 3s 471us/sample - loss: 6.7600e-04 - accuracy: 1.0000 - val_loss: 7.5556e-04 - val_accuracy: 1.0000\n",
      "Epoch 154/200\n",
      "6421/6421 [==============================] - 3s 471us/sample - loss: 6.7218e-04 - accuracy: 1.0000 - val_loss: 7.5065e-04 - val_accuracy: 1.0000\n",
      "Epoch 155/200\n",
      "6421/6421 [==============================] - 3s 465us/sample - loss: 6.6824e-04 - accuracy: 1.0000 - val_loss: 7.4603e-04 - val_accuracy: 1.0000\n",
      "Epoch 156/200\n",
      "6421/6421 [==============================] - 3s 482us/sample - loss: 6.6233e-04 - accuracy: 1.0000 - val_loss: 7.4173e-04 - val_accuracy: 1.0000\n",
      "Epoch 157/200\n",
      "6421/6421 [==============================] - 3s 475us/sample - loss: 6.5853e-04 - accuracy: 1.0000 - val_loss: 7.3700e-04 - val_accuracy: 1.0000\n",
      "Epoch 158/200\n",
      "6421/6421 [==============================] - 3s 488us/sample - loss: 6.5296e-04 - accuracy: 1.0000 - val_loss: 7.3296e-04 - val_accuracy: 1.0000\n",
      "Epoch 159/200\n",
      "6421/6421 [==============================] - 3s 481us/sample - loss: 6.5055e-04 - accuracy: 1.0000 - val_loss: 7.2958e-04 - val_accuracy: 1.0000\n",
      "Epoch 160/200\n",
      "6421/6421 [==============================] - 3s 491us/sample - loss: 6.4460e-04 - accuracy: 1.0000 - val_loss: 7.2456e-04 - val_accuracy: 1.0000\n"
     ]
    },
    {
     "name": "stdout",
     "output_type": "stream",
     "text": [
      "Epoch 161/200\n",
      "6421/6421 [==============================] - 3s 481us/sample - loss: 6.4166e-04 - accuracy: 1.0000 - val_loss: 7.2132e-04 - val_accuracy: 1.0000\n",
      "Epoch 162/200\n",
      "6421/6421 [==============================] - 3s 490us/sample - loss: 6.3603e-04 - accuracy: 1.0000 - val_loss: 7.1640e-04 - val_accuracy: 1.0000\n",
      "Epoch 163/200\n",
      "6421/6421 [==============================] - 3s 475us/sample - loss: 6.3250e-04 - accuracy: 1.0000 - val_loss: 7.1260e-04 - val_accuracy: 1.0000\n",
      "Epoch 164/200\n",
      "6421/6421 [==============================] - 3s 528us/sample - loss: 6.2847e-04 - accuracy: 1.0000 - val_loss: 7.0882e-04 - val_accuracy: 1.0000\n",
      "Epoch 165/200\n",
      "6421/6421 [==============================] - 3s 522us/sample - loss: 6.2378e-04 - accuracy: 1.0000 - val_loss: 7.0487e-04 - val_accuracy: 1.0000\n",
      "Epoch 166/200\n",
      "6421/6421 [==============================] - 3s 489us/sample - loss: 6.1995e-04 - accuracy: 1.0000 - val_loss: 7.0124e-04 - val_accuracy: 1.0000\n",
      "Epoch 167/200\n",
      "6421/6421 [==============================] - 3s 469us/sample - loss: 6.1671e-04 - accuracy: 1.0000 - val_loss: 6.9830e-04 - val_accuracy: 1.0000\n",
      "Epoch 168/200\n",
      "6421/6421 [==============================] - 3s 469us/sample - loss: 6.1188e-04 - accuracy: 1.0000 - val_loss: 6.9393e-04 - val_accuracy: 1.0000\n",
      "Epoch 169/200\n",
      "6421/6421 [==============================] - 3s 477us/sample - loss: 6.0859e-04 - accuracy: 1.0000 - val_loss: 6.9048e-04 - val_accuracy: 1.0000\n",
      "Epoch 170/200\n",
      "6421/6421 [==============================] - 3s 471us/sample - loss: 6.0504e-04 - accuracy: 1.0000 - val_loss: 6.8700e-04 - val_accuracy: 1.0000\n",
      "Epoch 171/200\n",
      "6421/6421 [==============================] - 3s 480us/sample - loss: 6.0050e-04 - accuracy: 1.0000 - val_loss: 6.8276e-04 - val_accuracy: 1.0000\n",
      "Epoch 172/200\n",
      "6421/6421 [==============================] - 3s 483us/sample - loss: 5.9671e-04 - accuracy: 1.0000 - val_loss: 6.8016e-04 - val_accuracy: 1.0000\n",
      "Epoch 173/200\n",
      "6421/6421 [==============================] - 3s 479us/sample - loss: 5.9311e-04 - accuracy: 1.0000 - val_loss: 6.7585e-04 - val_accuracy: 1.0000\n",
      "Epoch 174/200\n",
      "6421/6421 [==============================] - 3s 462us/sample - loss: 5.8940e-04 - accuracy: 1.0000 - val_loss: 6.7300e-04 - val_accuracy: 1.0000\n",
      "Epoch 175/200\n",
      "6421/6421 [==============================] - 3s 439us/sample - loss: 5.8609e-04 - accuracy: 1.0000 - val_loss: 6.6856e-04 - val_accuracy: 1.0000\n",
      "Epoch 176/200\n",
      "6421/6421 [==============================] - 3s 443us/sample - loss: 5.8269e-04 - accuracy: 1.0000 - val_loss: 6.6589e-04 - val_accuracy: 1.0000\n",
      "Epoch 177/200\n",
      "6421/6421 [==============================] - 3s 449us/sample - loss: 5.7982e-04 - accuracy: 1.0000 - val_loss: 6.6266e-04 - val_accuracy: 1.0000\n",
      "Epoch 178/200\n",
      "6421/6421 [==============================] - 3s 471us/sample - loss: 5.7505e-04 - accuracy: 1.0000 - val_loss: 6.5920e-04 - val_accuracy: 1.0000\n",
      "Epoch 179/200\n",
      "6421/6421 [==============================] - 3s 474us/sample - loss: 5.7188e-04 - accuracy: 1.0000 - val_loss: 6.5581e-04 - val_accuracy: 1.0000\n",
      "Epoch 180/200\n",
      "6421/6421 [==============================] - 3s 463us/sample - loss: 5.6976e-04 - accuracy: 1.0000 - val_loss: 6.5283e-04 - val_accuracy: 1.0000\n",
      "Epoch 181/200\n",
      "6421/6421 [==============================] - 3s 463us/sample - loss: 5.6570e-04 - accuracy: 1.0000 - val_loss: 6.4917e-04 - val_accuracy: 1.0000\n",
      "Epoch 182/200\n",
      "6421/6421 [==============================] - 3s 457us/sample - loss: 5.6174e-04 - accuracy: 1.0000 - val_loss: 6.4622e-04 - val_accuracy: 1.0000\n",
      "Epoch 183/200\n",
      "6421/6421 [==============================] - 3s 468us/sample - loss: 5.5857e-04 - accuracy: 1.0000 - val_loss: 6.4347e-04 - val_accuracy: 1.0000\n",
      "Epoch 184/200\n",
      "6421/6421 [==============================] - 3s 465us/sample - loss: 5.5546e-04 - accuracy: 1.0000 - val_loss: 6.3981e-04 - val_accuracy: 1.0000\n",
      "Epoch 185/200\n",
      "6421/6421 [==============================] - 3s 469us/sample - loss: 5.5251e-04 - accuracy: 1.0000 - val_loss: 6.3651e-04 - val_accuracy: 1.0000\n",
      "Epoch 186/200\n",
      "6421/6421 [==============================] - 3s 454us/sample - loss: 5.4886e-04 - accuracy: 1.0000 - val_loss: 6.3368e-04 - val_accuracy: 1.0000\n",
      "Epoch 187/200\n",
      "6421/6421 [==============================] - 3s 457us/sample - loss: 5.4646e-04 - accuracy: 1.0000 - val_loss: 6.3018e-04 - val_accuracy: 1.0000\n",
      "Epoch 188/200\n",
      "6421/6421 [==============================] - 3s 466us/sample - loss: 5.4334e-04 - accuracy: 1.0000 - val_loss: 6.2749e-04 - val_accuracy: 1.0000\n",
      "Epoch 189/200\n",
      "6421/6421 [==============================] - 3s 453us/sample - loss: 5.3909e-04 - accuracy: 1.0000 - val_loss: 6.2487e-04 - val_accuracy: 1.0000\n",
      "Epoch 190/200\n",
      "6421/6421 [==============================] - 3s 463us/sample - loss: 5.3687e-04 - accuracy: 1.0000 - val_loss: 6.2108e-04 - val_accuracy: 1.0000\n",
      "Epoch 191/200\n",
      "6421/6421 [==============================] - 3s 468us/sample - loss: 5.3395e-04 - accuracy: 1.0000 - val_loss: 6.1843e-04 - val_accuracy: 1.0000\n",
      "Epoch 192/200\n",
      "6421/6421 [==============================] - 3s 472us/sample - loss: 5.3132e-04 - accuracy: 1.0000 - val_loss: 6.1538e-04 - val_accuracy: 1.0000\n",
      "Epoch 193/200\n",
      "6421/6421 [==============================] - 3s 467us/sample - loss: 5.2827e-04 - accuracy: 1.0000 - val_loss: 6.1339e-04 - val_accuracy: 1.0000\n",
      "Epoch 194/200\n",
      "6421/6421 [==============================] - 3s 465us/sample - loss: 5.2487e-04 - accuracy: 1.0000 - val_loss: 6.1035e-04 - val_accuracy: 1.0000\n",
      "Epoch 195/200\n",
      "6421/6421 [==============================] - 3s 447us/sample - loss: 5.2260e-04 - accuracy: 1.0000 - val_loss: 6.0768e-04 - val_accuracy: 1.0000\n",
      "Epoch 196/200\n",
      "6421/6421 [==============================] - 3s 473us/sample - loss: 5.1889e-04 - accuracy: 1.0000 - val_loss: 6.0451e-04 - val_accuracy: 1.0000\n",
      "Epoch 197/200\n",
      "6421/6421 [==============================] - 3s 464us/sample - loss: 5.1684e-04 - accuracy: 1.0000 - val_loss: 6.0229e-04 - val_accuracy: 1.0000\n",
      "Epoch 198/200\n",
      "6421/6421 [==============================] - 3s 435us/sample - loss: 5.1319e-04 - accuracy: 1.0000 - val_loss: 5.9966e-04 - val_accuracy: 1.0000\n",
      "Epoch 199/200\n",
      "6421/6421 [==============================] - 3s 444us/sample - loss: 5.1043e-04 - accuracy: 1.0000 - val_loss: 5.9637e-04 - val_accuracy: 1.0000\n",
      "Epoch 200/200\n",
      "6421/6421 [==============================] - 3s 454us/sample - loss: 5.0828e-04 - accuracy: 1.0000 - val_loss: 5.9373e-04 - val_accuracy: 1.0000\n"
     ]
    }
   ],
   "source": [
    "# Train the model \n",
    "history = model.fit(samples, labels, epochs=200, validation_split=0.1)"
   ]
  },
  {
   "cell_type": "code",
   "execution_count": 26,
   "metadata": {},
   "outputs": [
    {
     "name": "stdout",
     "output_type": "stream",
     "text": [
      "Train on 4043 samples\n",
      "Epoch 1/5\n",
      "4043/4043 [==============================] - 1s 348us/sample - loss: 6.1365e-04 - accuracy: 1.0000\n",
      "Epoch 2/5\n",
      "4043/4043 [==============================] - 1s 346us/sample - loss: 6.0907e-04 - accuracy: 1.0000\n",
      "Epoch 3/5\n",
      "4043/4043 [==============================] - 1s 338us/sample - loss: 6.0518e-04 - accuracy: 1.0000\n",
      "Epoch 4/5\n",
      "4043/4043 [==============================] - 1s 351us/sample - loss: 6.0124e-04 - accuracy: 1.0000\n",
      "Epoch 5/5\n",
      "4043/4043 [==============================] - 1s 345us/sample - loss: 5.9747e-04 - accuracy: 1.0000\n"
     ]
    }
   ],
   "source": [
    "# a few iterations on all the data\n",
    "history = model.fit(samples, labels, epochs=5)"
   ]
  },
  {
   "cell_type": "markdown",
   "metadata": {},
   "source": [
    "## Test on a holdout sound "
   ]
  },
  {
   "cell_type": "code",
   "execution_count": 16,
   "metadata": {},
   "outputs": [
    {
     "name": "stdout",
     "output_type": "stream",
     "text": [
      "Model: \"model\"\n",
      "_________________________________________________________________\n",
      "Layer (type)                 Output Shape              Param #   \n",
      "=================================================================\n",
      "input_2 (InputLayer)         [(None, 1024)]            0         \n",
      "_________________________________________________________________\n",
      "dense_1 (Dense)              (None, 1024)              1049600   \n",
      "_________________________________________________________________\n",
      "dense_2 (Dense)              (None, 2)                 2050      \n",
      "=================================================================\n",
      "Total params: 1,051,650\n",
      "Trainable params: 1,051,650\n",
      "Non-trainable params: 0\n",
      "_________________________________________________________________\n"
     ]
    }
   ],
   "source": [
    "# Load model\n",
    "from tensorflow.keras.models import load_model\n",
    "\n",
    "model_new = load_model('top_model.h5')\n",
    "\n",
    "#opt = Adam(learning_rate=0.001)\n",
    "opt = SGD(lr=0.001, decay=1e-6, momentum=0.9, nesterov=True)\n",
    "model_new.compile(optimizer=opt, loss='sparse_categorical_crossentropy', metrics=['accuracy'])\n",
    "\n",
    "model_new.summary()"
   ]
  },
  {
   "cell_type": "code",
   "execution_count": 17,
   "metadata": {},
   "outputs": [],
   "source": [
    "def run_models(waveform, \n",
    "               yamnet_model, \n",
    "               top_model, \n",
    "               strip_silence=True, \n",
    "               min_samples=16000):\n",
    "    \n",
    "    if strip_silence:\n",
    "        waveform = remove_silence(waveform, top_db=10)\n",
    "    \n",
    "    if len(waveform) < min_samples:\n",
    "        print(\"input too short after silence removal\")\n",
    "        return [-1] #this value will be used to discard unfit audios later\n",
    "    \n",
    "    _, _, dense_out, _ = \\\n",
    "        yamnet_model.predict(np.reshape(waveform, [1, -1]), steps=1)\n",
    "    \n",
    "    # dense = (N, 1024)\n",
    "    all_scores = []\n",
    "    for patch in dense_out:\n",
    "        scores = top_model.predict( np.expand_dims(patch,0)).squeeze()\n",
    "        all_scores.append(scores)\n",
    "        \n",
    "    all_scores = np.mean(all_scores, axis=0)\n",
    "    return all_scores\n"
   ]
  },
  {
   "cell_type": "code",
   "execution_count": 18,
   "metadata": {},
   "outputs": [],
   "source": [
    "# categories = [\"not train\", \"train\"]\n",
    "\n",
    "categories = [\"plane\", \"not plane\"]"
   ]
  },
  {
   "cell_type": "code",
   "execution_count": 19,
   "metadata": {},
   "outputs": [],
   "source": [
    "fname = \"holdout_plane_sounds/244330__vumseplutten1709__enginetuning10000_norm.wav\"\n",
    "waveform = read_wav(fname, DESIRED_SR, use_rosa=1)\n",
    "\n",
    "#waveform = remove_silence(waveform, top_db=10)\n"
   ]
  },
  {
   "cell_type": "code",
   "execution_count": 20,
   "metadata": {},
   "outputs": [
    {
     "data": {
      "text/plain": [
       "[<matplotlib.lines.Line2D at 0x7ed468f2b0>]"
      ]
     },
     "execution_count": 20,
     "metadata": {},
     "output_type": "execute_result"
    },
    {
     "data": {
      "image/png": "[encoded data removed]",
      "text/plain": [
       "<Figure size 432x288 with 1 Axes>"
      ]
     },
     "metadata": {
      "needs_background": "light"
     },
     "output_type": "display_data"
    }
   ],
   "source": [
    "plot(waveform)"
   ]
  },
  {
   "cell_type": "code",
   "execution_count": 21,
   "metadata": {},
   "outputs": [
    {
     "name": "stdout",
     "output_type": "stream",
     "text": [
      " Best score: 0.940509557723999  label: plane\n"
     ]
    }
   ],
   "source": [
    "# scores = run_models(waveform, yamnet_model, model)\n",
    "scores = run_models(waveform, yamnet_model, model_new)\n",
    "winner = categories[scores.argmax()]\n",
    "\n",
    "print(\" Best score: {}  label: {}\".format(scores.max(), winner))\n"
   ]
  },
  {
   "cell_type": "code",
   "execution_count": 24,
   "metadata": {},
   "outputs": [
    {
     "name": "stdout",
     "output_type": "stream",
     "text": [
      "File: 103074-7-0-0.wav\n",
      " Best score: 0.9993352293968201  label: not plane\n",
      "File: 103199-4-0-0.wav\n",
      " Best score: 0.6846156120300293  label: not plane\n",
      "File: 102305-6-0-0.wav\n",
      " Best score: 0.9844768643379211  label: not plane\n",
      "File: 100263-2-0-117.wav\n",
      " Best score: 0.9765697121620178  label: not plane\n",
      "File: 102853-8-0-0.wav\n",
      " Best score: 0.8453531861305237  label: plane\n",
      "File: 101848-9-0-0.wav\n",
      " Best score: 0.9964523911476135  label: not plane\n",
      "File: 100852-0-0-0.wav\n",
      " Best score: 0.6016215085983276  label: not plane\n",
      "File: 102857-5-0-0.wav\n",
      " Best score: 0.9959386587142944  label: not plane\n"
     ]
    }
   ],
   "source": [
    "# import os\n",
    "# holdout_dir = \"holdout_plane_sounds\"\n",
    "# arr = os.listdir(holdout_dir)\n",
    "\n",
    "from glob import glob\n",
    "holdout_dir = 'holdout_noise_sounds/'\n",
    "holdout_wav = [f for f in glob(holdout_dir+\"*.wav\")]\n",
    "\n",
    "min_sample_seconds = 0.9\n",
    "\n",
    "for fname in holdout_wav: \n",
    "    waveform = read_wav(fname, DESIRED_SR, use_rosa=1)\n",
    "\n",
    "    # waveform = remove_silence(waveform, top_db=10)\n",
    "    \n",
    "    # make file a bit longer by duplicating it\n",
    "    if len(waveform) < DESIRED_SR*min_sample_seconds:\n",
    "        continue\n",
    "#         waveform = np.concatenate((waveform,waveform,waveform,waveform))\n",
    "\n",
    "    scores = run_models(waveform, yamnet_model, model_new, strip_silence=False)\n",
    "    \n",
    "    if scores[0] != -1:\n",
    "        winner = categories[scores.argmax()]\n",
    "        print(\"File:\",os.path.basename(fname))\n",
    "        print(\" Best score: {}  label: {}\".format(scores.max(), winner))"
   ]
  },
  {
   "cell_type": "code",
   "execution_count": 33,
   "metadata": {},
   "outputs": [],
   "source": [
    "## Save the model for later\n",
    "model.save(\"top_model.h5\", include_optimizer=False)"
   ]
  },
  {
   "cell_type": "code",
   "execution_count": 36,
   "metadata": {},
   "outputs": [
    {
     "name": "stdout",
     "output_type": "stream",
     "text": [
      "2020-03-09 18:00:08.257318: I tensorflow/stream_executor/platform/default/dso_loader.cc:44] Successfully opened dynamic library libcudart.so.10.0\n",
      " --- Using input device:  0\n",
      "2020-03-09 18:00:19.234401: I tensorflow/stream_executor/platform/default/dso_loader.cc:44] Successfully opened dynamic library libcuda.so.1\n",
      "2020-03-09 18:00:19.258650: I tensorflow/stream_executor/cuda/cuda_gpu_executor.cc:973] ARM64 does not support NUMA - returning NUMA node zero\n",
      "2020-03-09 18:00:19.258959: I tensorflow/core/common_runtime/gpu/gpu_device.cc:1618] Found device 0 with properties: \n",
      "name: NVIDIA Tegra X2 major: 6 minor: 2 memoryClockRate(GHz): 1.3\n",
      "pciBusID: 0000:00:00.0\n",
      "2020-03-09 18:00:19.259074: I tensorflow/stream_executor/platform/default/dso_loader.cc:44] Successfully opened dynamic library libcudart.so.10.0\n",
      "2020-03-09 18:00:19.264005: I tensorflow/stream_executor/platform/default/dso_loader.cc:44] Successfully opened dynamic library libcublas.so.10.0\n",
      "2020-03-09 18:00:19.268327: I tensorflow/stream_executor/platform/default/dso_loader.cc:44] Successfully opened dynamic library libcufft.so.10.0\n",
      "2020-03-09 18:00:19.270283: I tensorflow/stream_executor/platform/default/dso_loader.cc:44] Successfully opened dynamic library libcurand.so.10.0\n",
      "2020-03-09 18:00:19.276045: I tensorflow/stream_executor/platform/default/dso_loader.cc:44] Successfully opened dynamic library libcusolver.so.10.0\n",
      "2020-03-09 18:00:19.282998: I tensorflow/stream_executor/platform/default/dso_loader.cc:44] Successfully opened dynamic library libcusparse.so.10.0\n",
      "2020-03-09 18:00:19.294217: I tensorflow/stream_executor/platform/default/dso_loader.cc:44] Successfully opened dynamic library libcudnn.so.7\n",
      "2020-03-09 18:00:19.294841: I tensorflow/stream_executor/cuda/cuda_gpu_executor.cc:973] ARM64 does not support NUMA - returning NUMA node zero\n",
      "2020-03-09 18:00:19.295459: I tensorflow/stream_executor/cuda/cuda_gpu_executor.cc:973] ARM64 does not support NUMA - returning NUMA node zero\n",
      "2020-03-09 18:00:19.295702: I tensorflow/core/common_runtime/gpu/gpu_device.cc:1746] Adding visible gpu devices: 0\n",
      "2020-03-09 18:00:19.321764: W tensorflow/core/platform/profile_utils/cpu_utils.cc:98] Failed to find bogomips in /proc/cpuinfo; cannot determine CPU frequency\n",
      "2020-03-09 18:00:19.323841: I tensorflow/compiler/xla/service/service.cc:168] XLA service 0x2a7d5600 executing computations on platform Host. Devices:\n",
      "2020-03-09 18:00:19.323992: I tensorflow/compiler/xla/service/service.cc:175]   StreamExecutor device (0): Host, Default Version\n",
      "2020-03-09 18:00:19.406544: I tensorflow/stream_executor/cuda/cuda_gpu_executor.cc:973] ARM64 does not support NUMA - returning NUMA node zero\n",
      "2020-03-09 18:00:19.407082: I tensorflow/compiler/xla/service/service.cc:168] XLA service 0x2b5a4020 executing computations on platform CUDA. Devices:\n",
      "2020-03-09 18:00:19.407219: I tensorflow/compiler/xla/service/service.cc:175]   StreamExecutor device (0): NVIDIA Tegra X2, Compute Capability 6.2\n",
      "2020-03-09 18:00:19.407996: I tensorflow/stream_executor/cuda/cuda_gpu_executor.cc:973] ARM64 does not support NUMA - returning NUMA node zero\n",
      "2020-03-09 18:00:19.408307: I tensorflow/core/common_runtime/gpu/gpu_device.cc:1618] Found device 0 with properties: \n",
      "name: NVIDIA Tegra X2 major: 6 minor: 2 memoryClockRate(GHz): 1.3\n",
      "pciBusID: 0000:00:00.0\n",
      "2020-03-09 18:00:19.408484: I tensorflow/stream_executor/platform/default/dso_loader.cc:44] Successfully opened dynamic library libcudart.so.10.0\n",
      "2020-03-09 18:00:19.408600: I tensorflow/stream_executor/platform/default/dso_loader.cc:44] Successfully opened dynamic library libcublas.so.10.0\n",
      "2020-03-09 18:00:19.408711: I tensorflow/stream_executor/platform/default/dso_loader.cc:44] Successfully opened dynamic library libcufft.so.10.0\n",
      "2020-03-09 18:00:19.408814: I tensorflow/stream_executor/platform/default/dso_loader.cc:44] Successfully opened dynamic library libcurand.so.10.0\n",
      "2020-03-09 18:00:19.408918: I tensorflow/stream_executor/platform/default/dso_loader.cc:44] Successfully opened dynamic library libcusolver.so.10.0\n",
      "2020-03-09 18:00:19.409019: I tensorflow/stream_executor/platform/default/dso_loader.cc:44] Successfully opened dynamic library libcusparse.so.10.0\n",
      "2020-03-09 18:00:19.409126: I tensorflow/stream_executor/platform/default/dso_loader.cc:44] Successfully opened dynamic library libcudnn.so.7\n",
      "2020-03-09 18:00:19.409569: I tensorflow/stream_executor/cuda/cuda_gpu_executor.cc:973] ARM64 does not support NUMA - returning NUMA node zero\n",
      "2020-03-09 18:00:19.410147: I tensorflow/stream_executor/cuda/cuda_gpu_executor.cc:973] ARM64 does not support NUMA - returning NUMA node zero\n",
      "2020-03-09 18:00:19.410382: I tensorflow/core/common_runtime/gpu/gpu_device.cc:1746] Adding visible gpu devices: 0\n",
      "2020-03-09 18:00:19.410562: I tensorflow/stream_executor/platform/default/dso_loader.cc:44] Successfully opened dynamic library libcudart.so.10.0\n",
      "2020-03-09 18:00:21.007015: I tensorflow/core/common_runtime/gpu/gpu_device.cc:1159] Device interconnect StreamExecutor with strength 1 edge matrix:\n",
      "2020-03-09 18:00:21.007190: I tensorflow/core/common_runtime/gpu/gpu_device.cc:1165]      0 \n",
      "2020-03-09 18:00:21.007245: I tensorflow/core/common_runtime/gpu/gpu_device.cc:1178] 0:   N \n",
      "2020-03-09 18:00:21.007963: I tensorflow/stream_executor/cuda/cuda_gpu_executor.cc:973] ARM64 does not support NUMA - returning NUMA node zero\n",
      "2020-03-09 18:00:21.008725: I tensorflow/stream_executor/cuda/cuda_gpu_executor.cc:973] ARM64 does not support NUMA - returning NUMA node zero\n",
      "2020-03-09 18:00:21.009135: I tensorflow/core/common_runtime/gpu/gpu_device.cc:1304] Created TensorFlow device (/job:localhost/replica:0/task:0/device:GPU:0 with 104 MB memory) -> physical GPU (device: 0, name: NVIDIA Tegra X2, pci bus id: 0000:00:00.0, compute capability: 6.2)\n",
      "ALSA lib confmisc.c:1281:(snd_func_refer) Unable to find definition 'cards.tegra-hda.pcm.front.0:CARD=0'\n",
      "ALSA lib conf.c:4528:(_snd_config_evaluate) function snd_func_refer returned error: No such file or directory\n",
      "ALSA lib conf.c:5007:(snd_config_expand) Evaluate error: No such file or directory\n",
      "ALSA lib pcm.c:2495:(snd_pcm_open_noupdate) Unknown PCM front\n",
      "ALSA lib pcm.c:2495:(snd_pcm_open_noupdate) Unknown PCM cards.pcm.rear\n",
      "ALSA lib pcm.c:2495:(snd_pcm_open_noupdate) Unknown PCM cards.pcm.center_lfe\n",
      "ALSA lib pcm.c:2495:(snd_pcm_open_noupdate) Unknown PCM cards.pcm.side\n",
      "ALSA lib pcm.c:2495:(snd_pcm_open_noupdate) Unknown PCM cards.pcm.surround21\n",
      "ALSA lib pcm.c:2495:(snd_pcm_open_noupdate) Unknown PCM cards.pcm.surround21\n",
      "ALSA lib pcm.c:2495:(snd_pcm_open_noupdate) Unknown PCM cards.pcm.surround40\n",
      "ALSA lib pcm.c:2495:(snd_pcm_open_noupdate) Unknown PCM cards.pcm.surround41\n",
      "ALSA lib pcm.c:2495:(snd_pcm_open_noupdate) Unknown PCM cards.pcm.surround50\n",
      "ALSA lib pcm.c:2495:(snd_pcm_open_noupdate) Unknown PCM cards.pcm.surround51\n",
      "ALSA lib pcm.c:2495:(snd_pcm_open_noupdate) Unknown PCM cards.pcm.surround71\n",
      "ALSA lib pcm.c:2495:(snd_pcm_open_noupdate) Unknown PCM cards.pcm.iec958\n",
      "ALSA lib pcm.c:2495:(snd_pcm_open_noupdate) Unknown PCM cards.pcm.iec958\n",
      "ALSA lib pcm.c:2495:(snd_pcm_open_noupdate) Unknown PCM cards.pcm.iec958\n",
      "ALSA lib confmisc.c:1281:(snd_func_refer) Unable to find definition 'cards.tegra-hda.pcm.hdmi.0:CARD=0,AES0=4,AES1=130,AES2=0,AES3=2'\n",
      "ALSA lib conf.c:4528:(_snd_config_evaluate) function snd_func_refer returned error: No such file or directory\n",
      "ALSA lib conf.c:5007:(snd_config_expand) Evaluate error: No such file or directory\n",
      "ALSA lib pcm.c:2495:(snd_pcm_open_noupdate) Unknown PCM hdmi\n",
      "ALSA lib confmisc.c:1281:(snd_func_refer) Unable to find definition 'cards.tegra-hda.pcm.hdmi.0:CARD=0,AES0=4,AES1=130,AES2=0,AES3=2'\n",
      "ALSA lib conf.c:4528:(_snd_config_evaluate) function snd_func_refer returned error: No such file or directory\n",
      "ALSA lib conf.c:5007:(snd_config_expand) Evaluate error: No such file or directory\n",
      "ALSA lib pcm.c:2495:(snd_pcm_open_noupdate) Unknown PCM hdmi\n",
      "ALSA lib pcm.c:2495:(snd_pcm_open_noupdate) Unknown PCM cards.pcm.modem\n",
      "ALSA lib pcm.c:2495:(snd_pcm_open_noupdate) Unknown PCM cards.pcm.modem\n",
      "ALSA lib pcm.c:2495:(snd_pcm_open_noupdate) Unknown PCM cards.pcm.phoneline\n",
      "ALSA lib pcm.c:2495:(snd_pcm_open_noupdate) Unknown PCM cards.pcm.phoneline\n",
      "ALSA lib pcm_dmix.c:990:(snd_pcm_dmix_open) The dmix plugin supports only playback stream\n",
      "ALSA lib pcm_dmix.c:1052:(snd_pcm_dmix_open) unable to open slave\n",
      "ALSA lib pcm_params.c:2162:(snd1_pcm_hw_refine_slave) Slave PCM not usable\n",
      "ALSA lib pcm_params.c:2162:(snd1_pcm_hw_refine_slave) Slave PCM not usable\n",
      "ALSA lib pcm_params.c:2162:(snd1_pcm_hw_refine_slave) Slave PCM not usable\n",
      "ALSA lib pcm_params.c:2162:(snd1_pcm_hw_refine_slave) Slave PCM not usable\n",
      "ALSA lib pcm_dmix.c:1052:(snd_pcm_dmix_open) unable to open slave\n"
     ]
    },
    {
     "name": "stdout",
     "output_type": "stream",
     "text": [
      "{'index': 0, 'structVersion': 2, 'name': 'tegra-hda: HDMI 0 (hw:0,3)', 'hostApi': 0, 'maxInputChannels': 0, 'maxOutputChannels': 8, 'defaultLowInputLatency': -1.0, 'defaultLowOutputLatency': 0.005804988662131519, 'defaultHighInputLatency': -1.0, 'defaultHighOutputLatency': 0.034829931972789115, 'defaultSampleRate': 44100.0}\r\n",
      "_______\r\n",
      "{'index': 1, 'structVersion': 2, 'name': 'tegra-hda: HDMI 0 (hw:0,7)', 'hostApi': 0, 'maxInputChannels': 0, 'maxOutputChannels': 2, 'defaultLowInputLatency': -1.0, 'defaultLowOutputLatency': 0.005804988662131519, 'defaultHighInputLatency': -1.0, 'defaultHighOutputLatency': 0.034829931972789115, 'defaultSampleRate': 44100.0}\r\n",
      "_______\r\n",
      "{'index': 2, 'structVersion': 2, 'name': 'tegra-snd-t186ref-mobile-rt565x: - (hw:1,0)', 'hostApi': 0, 'maxInputChannels': 16, 'maxOutputChannels': 16, 'defaultLowInputLatency': 0.008707482993197279, 'defaultLowOutputLatency': 0.008707482993197279, 'defaultHighInputLatency': 0.034829931972789115, 'defaultHighOutputLatency': 0.034829931972789115, 'defaultSampleRate': 44100.0}\r\n",
      "_______\r\n",
      "{'index': 3, 'structVersion': 2, 'name': 'tegra-snd-t186ref-mobile-rt565x: - (hw:1,1)', 'hostApi': 0, 'maxInputChannels': 16, 'maxOutputChannels': 16, 'defaultLowInputLatency': 0.008707482993197279, 'defaultLowOutputLatency': 0.008707482993197279, 'defaultHighInputLatency': 0.034829931972789115, 'defaultHighOutputLatency': 0.034829931972789115, 'defaultSampleRate': 44100.0}\r\n",
      "_______\r\n",
      "{'index': 4, 'structVersion': 2, 'name': 'tegra-snd-t186ref-mobile-rt565x: - (hw:1,2)', 'hostApi': 0, 'maxInputChannels': 16, 'maxOutputChannels': 16, 'defaultLowInputLatency': 0.008707482993197279, 'defaultLowOutputLatency': 0.008707482993197279, 'defaultHighInputLatency': 0.034829931972789115, 'defaultHighOutputLatency': 0.034829931972789115, 'defaultSampleRate': 44100.0}\r\n",
      "_______\r\n",
      "{'index': 5, 'structVersion': 2, 'name': 'tegra-snd-t186ref-mobile-rt565x: - (hw:1,3)', 'hostApi': 0, 'maxInputChannels': 16, 'maxOutputChannels': 16, 'defaultLowInputLatency': 0.008707482993197279, 'defaultLowOutputLatency': 0.008707482993197279, 'defaultHighInputLatency': 0.034829931972789115, 'defaultHighOutputLatency': 0.034829931972789115, 'defaultSampleRate': 44100.0}\r\n",
      "_______\r\n",
      "{'index': 6, 'structVersion': 2, 'name': 'tegra-snd-t186ref-mobile-rt565x: - (hw:1,4)', 'hostApi': 0, 'maxInputChannels': 16, 'maxOutputChannels': 16, 'defaultLowInputLatency': 0.008707482993197279, 'defaultLowOutputLatency': 0.008707482993197279, 'defaultHighInputLatency': 0.034829931972789115, 'defaultHighOutputLatency': 0.034829931972789115, 'defaultSampleRate': 44100.0}\r\n",
      "_______\r\n",
      "{'index': 7, 'structVersion': 2, 'name': 'tegra-snd-t186ref-mobile-rt565x: - (hw:1,5)', 'hostApi': 0, 'maxInputChannels': 16, 'maxOutputChannels': 16, 'defaultLowInputLatency': 0.008707482993197279, 'defaultLowOutputLatency': 0.008707482993197279, 'defaultHighInputLatency': 0.034829931972789115, 'defaultHighOutputLatency': 0.034829931972789115, 'defaultSampleRate': 44100.0}\r\n",
      "_______\r\n",
      "{'index': 8, 'structVersion': 2, 'name': 'tegra-snd-t186ref-mobile-rt565x: - (hw:1,6)', 'hostApi': 0, 'maxInputChannels': 16, 'maxOutputChannels': 16, 'defaultLowInputLatency': 0.008707482993197279, 'defaultLowOutputLatency': 0.008707482993197279, 'defaultHighInputLatency': 0.034829931972789115, 'defaultHighOutputLatency': 0.034829931972789115, 'defaultSampleRate': 44100.0}\r\n",
      "_______\r\n",
      "{'index': 9, 'structVersion': 2, 'name': 'tegra-snd-t186ref-mobile-rt565x: - (hw:1,7)', 'hostApi': 0, 'maxInputChannels': 16, 'maxOutputChannels': 16, 'defaultLowInputLatency': 0.008707482993197279, 'defaultLowOutputLatency': 0.008707482993197279, 'defaultHighInputLatency': 0.034829931972789115, 'defaultHighOutputLatency': 0.034829931972789115, 'defaultSampleRate': 44100.0}\r\n",
      "_______\r\n",
      "{'index': 10, 'structVersion': 2, 'name': 'tegra-snd-t186ref-mobile-rt565x: - (hw:1,8)', 'hostApi': 0, 'maxInputChannels': 16, 'maxOutputChannels': 16, 'defaultLowInputLatency': 0.008707482993197279, 'defaultLowOutputLatency': 0.008707482993197279, 'defaultHighInputLatency': 0.034829931972789115, 'defaultHighOutputLatency': 0.034829931972789115, 'defaultSampleRate': 44100.0}\r\n",
      "_______\r\n",
      "{'index': 11, 'structVersion': 2, 'name': 'tegra-snd-t186ref-mobile-rt565x: - (hw:1,9)', 'hostApi': 0, 'maxInputChannels': 16, 'maxOutputChannels': 16, 'defaultLowInputLatency': 0.008707482993197279, 'defaultLowOutputLatency': 0.008707482993197279, 'defaultHighInputLatency': 0.034829931972789115, 'defaultHighOutputLatency': 0.034829931972789115, 'defaultSampleRate': 44100.0}\r\n",
      "_______\r\n",
      "{'index': 12, 'structVersion': 2, 'name': 'tegra-snd-t186ref-mobile-rt565x: - (hw:1,10)', 'hostApi': 0, 'maxInputChannels': 16, 'maxOutputChannels': 16, 'defaultLowInputLatency': 0.008707482993197279, 'defaultLowOutputLatency': 0.008707482993197279, 'defaultHighInputLatency': 0.034829931972789115, 'defaultHighOutputLatency': 0.034829931972789115, 'defaultSampleRate': 44100.0}\r\n",
      "_______\r\n",
      "{'index': 13, 'structVersion': 2, 'name': 'tegra-snd-t186ref-mobile-rt565x: - (hw:1,11)', 'hostApi': 0, 'maxInputChannels': 16, 'maxOutputChannels': 16, 'defaultLowInputLatency': 0.008707482993197279, 'defaultLowOutputLatency': 0.008707482993197279, 'defaultHighInputLatency': 0.034829931972789115, 'defaultHighOutputLatency': 0.034829931972789115, 'defaultSampleRate': 44100.0}\r\n",
      "_______\r\n",
      "{'index': 14, 'structVersion': 2, 'name': 'tegra-snd-t186ref-mobile-rt565x: - (hw:1,12)', 'hostApi': 0, 'maxInputChannels': 16, 'maxOutputChannels': 16, 'defaultLowInputLatency': 0.008707482993197279, 'defaultLowOutputLatency': 0.008707482993197279, 'defaultHighInputLatency': 0.034829931972789115, 'defaultHighOutputLatency': 0.034829931972789115, 'defaultSampleRate': 44100.0}\r\n",
      "_______\r\n",
      "{'index': 15, 'structVersion': 2, 'name': 'tegra-snd-t186ref-mobile-rt565x: - (hw:1,13)', 'hostApi': 0, 'maxInputChannels': 16, 'maxOutputChannels': 16, 'defaultLowInputLatency': 0.008707482993197279, 'defaultLowOutputLatency': 0.008707482993197279, 'defaultHighInputLatency': 0.034829931972789115, 'defaultHighOutputLatency': 0.034829931972789115, 'defaultSampleRate': 44100.0}\r\n",
      "_______\r\n",
      "{'index': 16, 'structVersion': 2, 'name': 'tegra-snd-t186ref-mobile-rt565x: - (hw:1,14)', 'hostApi': 0, 'maxInputChannels': 16, 'maxOutputChannels': 16, 'defaultLowInputLatency': 0.008707482993197279, 'defaultLowOutputLatency': 0.008707482993197279, 'defaultHighInputLatency': 0.034829931972789115, 'defaultHighOutputLatency': 0.034829931972789115, 'defaultSampleRate': 44100.0}\r\n",
      "_______\r\n",
      "{'index': 17, 'structVersion': 2, 'name': 'tegra-snd-t186ref-mobile-rt565x: - (hw:1,15)', 'hostApi': 0, 'maxInputChannels': 16, 'maxOutputChannels': 16, 'defaultLowInputLatency': 0.008707482993197279, 'defaultLowOutputLatency': 0.008707482993197279, 'defaultHighInputLatency': 0.034829931972789115, 'defaultHighOutputLatency': 0.034829931972789115, 'defaultSampleRate': 44100.0}\r\n",
      "_______\r\n",
      "{'index': 18, 'structVersion': 2, 'name': 'tegra-snd-t186ref-mobile-rt565x: - (hw:1,16)', 'hostApi': 0, 'maxInputChannels': 16, 'maxOutputChannels': 16, 'defaultLowInputLatency': 0.008707482993197279, 'defaultLowOutputLatency': 0.008707482993197279, 'defaultHighInputLatency': 0.034829931972789115, 'defaultHighOutputLatency': 0.034829931972789115, 'defaultSampleRate': 44100.0}\r\n",
      "_______\r\n",
      "{'index': 19, 'structVersion': 2, 'name': 'tegra-snd-t186ref-mobile-rt565x: - (hw:1,17)', 'hostApi': 0, 'maxInputChannels': 16, 'maxOutputChannels': 16, 'defaultLowInputLatency': 0.008707482993197279, 'defaultLowOutputLatency': 0.008707482993197279, 'defaultHighInputLatency': 0.034829931972789115, 'defaultHighOutputLatency': 0.034829931972789115, 'defaultSampleRate': 44100.0}\r\n",
      "_______\r\n",
      "{'index': 20, 'structVersion': 2, 'name': 'tegra-snd-t186ref-mobile-rt565x: - (hw:1,18)', 'hostApi': 0, 'maxInputChannels': 16, 'maxOutputChannels': 16, 'defaultLowInputLatency': 0.008707482993197279, 'defaultLowOutputLatency': 0.008707482993197279, 'defaultHighInputLatency': 0.034829931972789115, 'defaultHighOutputLatency': 0.034829931972789115, 'defaultSampleRate': 44100.0}\r\n",
      "_______\r\n",
      "{'index': 21, 'structVersion': 2, 'name': 'tegra-snd-t186ref-mobile-rt565x: - (hw:1,19)', 'hostApi': 0, 'maxInputChannels': 16, 'maxOutputChannels': 16, 'defaultLowInputLatency': 0.008707482993197279, 'defaultLowOutputLatency': 0.008707482993197279, 'defaultHighInputLatency': 0.034829931972789115, 'defaultHighOutputLatency': 0.034829931972789115, 'defaultSampleRate': 44100.0}\r\n",
      "_______\r\n",
      "{'index': 22, 'structVersion': 2, 'name': 'pulse', 'hostApi': 0, 'maxInputChannels': 32, 'maxOutputChannels': 32, 'defaultLowInputLatency': 0.008707482993197279, 'defaultLowOutputLatency': 0.008707482993197279, 'defaultHighInputLatency': 0.034829931972789115, 'defaultHighOutputLatency': 0.034829931972789115, 'defaultSampleRate': 44100.0}\r\n",
      "_______\r\n",
      "{'index': 23, 'structVersion': 2, 'name': 'music', 'hostApi': 0, 'maxInputChannels': 0, 'maxOutputChannels': 128, 'defaultLowInputLatency': -1.0, 'defaultLowOutputLatency': 0.005333333333333333, 'defaultHighInputLatency': -1.0, 'defaultHighOutputLatency': 0.032, 'defaultSampleRate': 48000.0}\r\n",
      "_______\r\n",
      "{'index': 24, 'structVersion': 2, 'name': 'aux', 'hostApi': 0, 'maxInputChannels': 0, 'maxOutputChannels': 2, 'defaultLowInputLatency': -1.0, 'defaultLowOutputLatency': 0.005804988662131519, 'defaultHighInputLatency': -1.0, 'defaultHighOutputLatency': 0.034829931972789115, 'defaultSampleRate': 44100.0}\r\n",
      "_______\r\n",
      "{'index': 25, 'structVersion': 2, 'name': 'aux_plug', 'hostApi': 0, 'maxInputChannels': 0, 'maxOutputChannels': 128, 'defaultLowInputLatency': -1.0, 'defaultLowOutputLatency': 0.005804988662131519, 'defaultHighInputLatency': -1.0, 'defaultHighOutputLatency': 0.034829931972789115, 'defaultSampleRate': 44100.0}\r\n",
      "_______\r\n",
      "{'index': 26, 'structVersion': 2, 'name': 'default', 'hostApi': 0, 'maxInputChannels': 32, 'maxOutputChannels': 32, 'defaultLowInputLatency': 0.008707482993197279, 'defaultLowOutputLatency': 0.008707482993197279, 'defaultHighInputLatency': 0.034829931972789115, 'defaultHighOutputLatency': 0.034829931972789115, 'defaultSampleRate': 44100.0}\r\n",
      "_______\r\n"
     ]
    },
    {
     "name": "stdout",
     "output_type": "stream",
     "text": [
      "ALSA lib confmisc.c:1281:(snd_func_refer) Unable to find definition 'cards.tegra-hda.pcm.front.0:CARD=0'\n",
      "ALSA lib conf.c:4528:(_snd_config_evaluate) function snd_func_refer returned error: No such file or directory\n",
      "ALSA lib conf.c:5007:(snd_config_expand) Evaluate error: No such file or directory\n",
      "ALSA lib pcm.c:2495:(snd_pcm_open_noupdate) Unknown PCM front\n",
      "ALSA lib pcm.c:2495:(snd_pcm_open_noupdate) Unknown PCM cards.pcm.rear\n",
      "ALSA lib pcm.c:2495:(snd_pcm_open_noupdate) Unknown PCM cards.pcm.center_lfe\n",
      "ALSA lib pcm.c:2495:(snd_pcm_open_noupdate) Unknown PCM cards.pcm.side\n",
      "ALSA lib pcm.c:2495:(snd_pcm_open_noupdate) Unknown PCM cards.pcm.surround21\n",
      "ALSA lib pcm.c:2495:(snd_pcm_open_noupdate) Unknown PCM cards.pcm.surround21\n",
      "ALSA lib pcm.c:2495:(snd_pcm_open_noupdate) Unknown PCM cards.pcm.surround40\n",
      "ALSA lib pcm.c:2495:(snd_pcm_open_noupdate) Unknown PCM cards.pcm.surround41\n",
      "ALSA lib pcm.c:2495:(snd_pcm_open_noupdate) Unknown PCM cards.pcm.surround50\n",
      "ALSA lib pcm.c:2495:(snd_pcm_open_noupdate) Unknown PCM cards.pcm.surround51\n",
      "ALSA lib pcm.c:2495:(snd_pcm_open_noupdate) Unknown PCM cards.pcm.surround71\n",
      "ALSA lib pcm.c:2495:(snd_pcm_open_noupdate) Unknown PCM cards.pcm.iec958\n",
      "ALSA lib pcm.c:2495:(snd_pcm_open_noupdate) Unknown PCM cards.pcm.iec958\n",
      "ALSA lib pcm.c:2495:(snd_pcm_open_noupdate) Unknown PCM cards.pcm.iec958\n",
      "ALSA lib confmisc.c:1281:(snd_func_refer) Unable to find definition 'cards.tegra-hda.pcm.hdmi.0:CARD=0,AES0=4,AES1=130,AES2=0,AES3=2'\n",
      "ALSA lib conf.c:4528:(_snd_config_evaluate) function snd_func_refer returned error: No such file or directory\n",
      "ALSA lib conf.c:5007:(snd_config_expand) Evaluate error: No such file or directory\n",
      "ALSA lib pcm.c:2495:(snd_pcm_open_noupdate) Unknown PCM hdmi\n",
      "ALSA lib confmisc.c:1281:(snd_func_refer) Unable to find definition 'cards.tegra-hda.pcm.hdmi.0:CARD=0,AES0=4,AES1=130,AES2=0,AES3=2'\n",
      "ALSA lib conf.c:4528:(_snd_config_evaluate) function snd_func_refer returned error: No such file or directory\n",
      "ALSA lib conf.c:5007:(snd_config_expand) Evaluate error: No such file or directory\n",
      "ALSA lib pcm.c:2495:(snd_pcm_open_noupdate) Unknown PCM hdmi\n",
      "ALSA lib pcm.c:2495:(snd_pcm_open_noupdate) Unknown PCM cards.pcm.modem\n",
      "ALSA lib pcm.c:2495:(snd_pcm_open_noupdate) Unknown PCM cards.pcm.modem\n",
      "ALSA lib pcm.c:2495:(snd_pcm_open_noupdate) Unknown PCM cards.pcm.phoneline\n",
      "ALSA lib pcm.c:2495:(snd_pcm_open_noupdate) Unknown PCM cards.pcm.phoneline\n",
      "ALSA lib pcm_dmix.c:990:(snd_pcm_dmix_open) The dmix plugin supports only playback stream\n",
      "ALSA lib pcm_dmix.c:1052:(snd_pcm_dmix_open) unable to open slave\n",
      "ALSA lib pcm_params.c:2162:(snd1_pcm_hw_refine_slave) Slave PCM not usable\n",
      "ALSA lib pcm_params.c:2162:(snd1_pcm_hw_refine_slave) Slave PCM not usable\n",
      "ALSA lib pcm_params.c:2162:(snd1_pcm_hw_refine_slave) Slave PCM not usable\n",
      "ALSA lib pcm_params.c:2162:(snd1_pcm_hw_refine_slave) Slave PCM not usable\n",
      "ALSA lib pcm_dmix.c:1052:(snd_pcm_dmix_open) unable to open slave\n",
      "Expression 'parameters->channelCount <= maxChans' failed in 'src/hostapi/alsa/pa_linux_alsa.c', line: 1514\n",
      "Expression 'ValidateParameters( inputParameters, hostApi, StreamDirection_In )' failed in 'src/hostapi/alsa/pa_linux_alsa.c', line: 2818\n",
      "Traceback (most recent call last):\n",
      "  File \"classify_from_mic.py\", line 320, in <module>\n",
      "    run_detection_loop(input_device_index=input_device_index)\n",
      "  File \"classify_from_mic.py\", line 188, in run_detection_loop\n",
      "    frames_per_buffer=CHUNK)\n",
      "  File \"/home/catec/tf2/lib/python3.6/site-packages/pyaudio.py\", line 750, in open\n",
      "    stream = Stream(self, *args, **kwargs)\n",
      "  File \"/home/catec/tf2/lib/python3.6/site-packages/pyaudio.py\", line 441, in __init__\n",
      "    self._stream = pa.open(**arguments)\n",
      "OSError: [Errno -9998] Invalid number of channels\n"
     ]
    }
   ],
   "source": [
    "# NOTE: PyAudio required here \n",
    "# device index from pyaudio \n",
    "!python3 classify_from_mic.py 0\n"
   ]
  },
  {
   "cell_type": "code",
   "execution_count": null,
   "metadata": {},
   "outputs": [],
   "source": []
  }
 ],
 "metadata": {
  "kernelspec": {
   "display_name": "Python 3",
   "language": "python",
   "name": "python3"
  },
  "language_info": {
   "codemirror_mode": {
    "name": "ipython",
    "version": 3
   },
   "file_extension": ".py",
   "mimetype": "text/x-python",
   "name": "python",
   "nbconvert_exporter": "python",
   "pygments_lexer": "ipython3",
   "version": "3.6.9"
  }
 },
 "nbformat": 4,
 "nbformat_minor": 2
}